{
 "cells": [
  {
   "cell_type": "code",
   "execution_count": 1,
   "metadata": {},
   "outputs": [
    {
     "data": {
      "text/html": [
       "<pre style=\"white-space:pre;overflow-x:auto;line-height:normal;font-family:Menlo,'DejaVu Sans Mono',consolas,'Courier New',monospace\"><span style=\"color: #7fbfbf; text-decoration-color: #7fbfbf\">[04/03/24 10:58:44] </span><span style=\"color: #000080; text-decoration-color: #000080\">INFO    </span> Registered line magic <span style=\"color: #008000; text-decoration-color: #008000\">'%reload_kedro'</span>                                   <a href=\"file:///opt/anaconda3/envs/kedro-session/lib/python3.10/site-packages/kedro/ipython/__init__.py\" target=\"_blank\"><span style=\"color: #7f7f7f; text-decoration-color: #7f7f7f\">__init__.py</span></a><span style=\"color: #7f7f7f; text-decoration-color: #7f7f7f\">:</span><a href=\"file:///opt/anaconda3/envs/kedro-session/lib/python3.10/site-packages/kedro/ipython/__init__.py#51\" target=\"_blank\"><span style=\"color: #7f7f7f; text-decoration-color: #7f7f7f\">51</span></a>\n",
       "</pre>\n"
      ],
      "text/plain": [
       "\u001b[2;36m[04/03/24 10:58:44]\u001b[0m\u001b[2;36m \u001b[0m\u001b[34mINFO    \u001b[0m Registered line magic \u001b[32m'%reload_kedro'\u001b[0m                                   \u001b]8;id=606776;file:///opt/anaconda3/envs/kedro-session/lib/python3.10/site-packages/kedro/ipython/__init__.py\u001b\\\u001b[2m__init__.py\u001b[0m\u001b]8;;\u001b\\\u001b[2m:\u001b[0m\u001b]8;id=633424;file:///opt/anaconda3/envs/kedro-session/lib/python3.10/site-packages/kedro/ipython/__init__.py#51\u001b\\\u001b[2m51\u001b[0m\u001b]8;;\u001b\\\n"
      ]
     },
     "metadata": {},
     "output_type": "display_data"
    },
    {
     "data": {
      "text/html": [
       "<pre style=\"white-space:pre;overflow-x:auto;line-height:normal;font-family:Menlo,'DejaVu Sans Mono',consolas,'Courier New',monospace\"><span style=\"color: #7fbfbf; text-decoration-color: #7fbfbf\">                    </span><span style=\"color: #000080; text-decoration-color: #000080\">INFO    </span> Registered line magic <span style=\"color: #008000; text-decoration-color: #008000\">'%load_node'</span>                                      <a href=\"file:///opt/anaconda3/envs/kedro-session/lib/python3.10/site-packages/kedro/ipython/__init__.py\" target=\"_blank\"><span style=\"color: #7f7f7f; text-decoration-color: #7f7f7f\">__init__.py</span></a><span style=\"color: #7f7f7f; text-decoration-color: #7f7f7f\">:</span><a href=\"file:///opt/anaconda3/envs/kedro-session/lib/python3.10/site-packages/kedro/ipython/__init__.py#53\" target=\"_blank\"><span style=\"color: #7f7f7f; text-decoration-color: #7f7f7f\">53</span></a>\n",
       "</pre>\n"
      ],
      "text/plain": [
       "\u001b[2;36m                   \u001b[0m\u001b[2;36m \u001b[0m\u001b[34mINFO    \u001b[0m Registered line magic \u001b[32m'%load_node'\u001b[0m                                      \u001b]8;id=344989;file:///opt/anaconda3/envs/kedro-session/lib/python3.10/site-packages/kedro/ipython/__init__.py\u001b\\\u001b[2m__init__.py\u001b[0m\u001b]8;;\u001b\\\u001b[2m:\u001b[0m\u001b]8;id=798700;file:///opt/anaconda3/envs/kedro-session/lib/python3.10/site-packages/kedro/ipython/__init__.py#53\u001b\\\u001b[2m53\u001b[0m\u001b]8;;\u001b\\\n"
      ]
     },
     "metadata": {},
     "output_type": "display_data"
    },
    {
     "data": {
      "text/html": [
       "<pre style=\"white-space:pre;overflow-x:auto;line-height:normal;font-family:Menlo,'DejaVu Sans Mono',consolas,'Courier New',monospace\"><span style=\"color: #7fbfbf; text-decoration-color: #7fbfbf\">                    </span><span style=\"color: #000080; text-decoration-color: #000080\">INFO    </span> Resolved project path as:                                              <a href=\"file:///opt/anaconda3/envs/kedro-session/lib/python3.10/site-packages/kedro/ipython/__init__.py\" target=\"_blank\"><span style=\"color: #7f7f7f; text-decoration-color: #7f7f7f\">__init__.py</span></a><span style=\"color: #7f7f7f; text-decoration-color: #7f7f7f\">:</span><a href=\"file:///opt/anaconda3/envs/kedro-session/lib/python3.10/site-packages/kedro/ipython/__init__.py#164\" target=\"_blank\"><span style=\"color: #7f7f7f; text-decoration-color: #7f7f7f\">164</span></a>\n",
       "<span style=\"color: #7fbfbf; text-decoration-color: #7fbfbf\">                    </span>         <span style=\"color: #800080; text-decoration-color: #800080\">/Users/wilsvenleong/Downloads/learning-materials/</span><span style=\"color: #ff00ff; text-decoration-color: #ff00ff\">fraud-transactions-da</span> <span style=\"color: #7f7f7f; text-decoration-color: #7f7f7f\">               </span>\n",
       "<span style=\"color: #7fbfbf; text-decoration-color: #7fbfbf\">                    </span>         <span style=\"color: #ff00ff; text-decoration-color: #ff00ff\">taset.</span>                                                                 <span style=\"color: #7f7f7f; text-decoration-color: #7f7f7f\">               </span>\n",
       "<span style=\"color: #7fbfbf; text-decoration-color: #7fbfbf\">                    </span>         To set a different path, run <span style=\"color: #008000; text-decoration-color: #008000\">'%reload_kedro &lt;project_root&gt;'</span>            <span style=\"color: #7f7f7f; text-decoration-color: #7f7f7f\">               </span>\n",
       "</pre>\n"
      ],
      "text/plain": [
       "\u001b[2;36m                   \u001b[0m\u001b[2;36m \u001b[0m\u001b[34mINFO    \u001b[0m Resolved project path as:                                              \u001b]8;id=508162;file:///opt/anaconda3/envs/kedro-session/lib/python3.10/site-packages/kedro/ipython/__init__.py\u001b\\\u001b[2m__init__.py\u001b[0m\u001b]8;;\u001b\\\u001b[2m:\u001b[0m\u001b]8;id=401984;file:///opt/anaconda3/envs/kedro-session/lib/python3.10/site-packages/kedro/ipython/__init__.py#164\u001b\\\u001b[2m164\u001b[0m\u001b]8;;\u001b\\\n",
       "\u001b[2;36m                    \u001b[0m         \u001b[35m/Users/wilsvenleong/Downloads/learning-materials/\u001b[0m\u001b[95mfraud-transactions-da\u001b[0m \u001b[2m               \u001b[0m\n",
       "\u001b[2;36m                    \u001b[0m         \u001b[95mtaset.\u001b[0m                                                                 \u001b[2m               \u001b[0m\n",
       "\u001b[2;36m                    \u001b[0m         To set a different path, run \u001b[32m'%reload_kedro \u001b[0m\u001b[32m<\u001b[0m\u001b[32mproject_root\u001b[0m\u001b[32m>\u001b[0m\u001b[32m'\u001b[0m            \u001b[2m               \u001b[0m\n"
      ]
     },
     "metadata": {},
     "output_type": "display_data"
    },
    {
     "data": {
      "text/html": [
       "<pre style=\"white-space:pre;overflow-x:auto;line-height:normal;font-family:Menlo,'DejaVu Sans Mono',consolas,'Courier New',monospace\"><span style=\"color: #7fbfbf; text-decoration-color: #7fbfbf\">[04/03/24 10:58:47] </span><span style=\"color: #000080; text-decoration-color: #000080\">INFO    </span> Kedro project Fraud Transactions Dataset                               <a href=\"file:///opt/anaconda3/envs/kedro-session/lib/python3.10/site-packages/kedro/ipython/__init__.py\" target=\"_blank\"><span style=\"color: #7f7f7f; text-decoration-color: #7f7f7f\">__init__.py</span></a><span style=\"color: #7f7f7f; text-decoration-color: #7f7f7f\">:</span><a href=\"file:///opt/anaconda3/envs/kedro-session/lib/python3.10/site-packages/kedro/ipython/__init__.py#134\" target=\"_blank\"><span style=\"color: #7f7f7f; text-decoration-color: #7f7f7f\">134</span></a>\n",
       "</pre>\n"
      ],
      "text/plain": [
       "\u001b[2;36m[04/03/24 10:58:47]\u001b[0m\u001b[2;36m \u001b[0m\u001b[34mINFO    \u001b[0m Kedro project Fraud Transactions Dataset                               \u001b]8;id=313199;file:///opt/anaconda3/envs/kedro-session/lib/python3.10/site-packages/kedro/ipython/__init__.py\u001b\\\u001b[2m__init__.py\u001b[0m\u001b]8;;\u001b\\\u001b[2m:\u001b[0m\u001b]8;id=184339;file:///opt/anaconda3/envs/kedro-session/lib/python3.10/site-packages/kedro/ipython/__init__.py#134\u001b\\\u001b[2m134\u001b[0m\u001b]8;;\u001b\\\n"
      ]
     },
     "metadata": {},
     "output_type": "display_data"
    },
    {
     "data": {
      "text/html": [
       "<pre style=\"white-space:pre;overflow-x:auto;line-height:normal;font-family:Menlo,'DejaVu Sans Mono',consolas,'Courier New',monospace\"><span style=\"color: #7fbfbf; text-decoration-color: #7fbfbf\">                    </span><span style=\"color: #000080; text-decoration-color: #000080\">INFO    </span> Defined global variable <span style=\"color: #008000; text-decoration-color: #008000\">'context'</span>, <span style=\"color: #008000; text-decoration-color: #008000\">'session'</span>, <span style=\"color: #008000; text-decoration-color: #008000\">'catalog'</span> and            <a href=\"file:///opt/anaconda3/envs/kedro-session/lib/python3.10/site-packages/kedro/ipython/__init__.py\" target=\"_blank\"><span style=\"color: #7f7f7f; text-decoration-color: #7f7f7f\">__init__.py</span></a><span style=\"color: #7f7f7f; text-decoration-color: #7f7f7f\">:</span><a href=\"file:///opt/anaconda3/envs/kedro-session/lib/python3.10/site-packages/kedro/ipython/__init__.py#135\" target=\"_blank\"><span style=\"color: #7f7f7f; text-decoration-color: #7f7f7f\">135</span></a>\n",
       "<span style=\"color: #7fbfbf; text-decoration-color: #7fbfbf\">                    </span>         <span style=\"color: #008000; text-decoration-color: #008000\">'pipelines'</span>                                                            <span style=\"color: #7f7f7f; text-decoration-color: #7f7f7f\">               </span>\n",
       "</pre>\n"
      ],
      "text/plain": [
       "\u001b[2;36m                   \u001b[0m\u001b[2;36m \u001b[0m\u001b[34mINFO    \u001b[0m Defined global variable \u001b[32m'context'\u001b[0m, \u001b[32m'session'\u001b[0m, \u001b[32m'catalog'\u001b[0m and            \u001b]8;id=478200;file:///opt/anaconda3/envs/kedro-session/lib/python3.10/site-packages/kedro/ipython/__init__.py\u001b\\\u001b[2m__init__.py\u001b[0m\u001b]8;;\u001b\\\u001b[2m:\u001b[0m\u001b]8;id=380334;file:///opt/anaconda3/envs/kedro-session/lib/python3.10/site-packages/kedro/ipython/__init__.py#135\u001b\\\u001b[2m135\u001b[0m\u001b]8;;\u001b\\\n",
       "\u001b[2;36m                    \u001b[0m         \u001b[32m'pipelines'\u001b[0m                                                            \u001b[2m               \u001b[0m\n"
      ]
     },
     "metadata": {},
     "output_type": "display_data"
    },
    {
     "data": {
      "text/html": [
       "<pre style=\"white-space:pre;overflow-x:auto;line-height:normal;font-family:Menlo,'DejaVu Sans Mono',consolas,'Courier New',monospace\"><span style=\"color: #7fbfbf; text-decoration-color: #7fbfbf\">[04/03/24 10:58:50] </span><span style=\"color: #000080; text-decoration-color: #000080\">INFO    </span> Registered line magic <span style=\"color: #008000; text-decoration-color: #008000\">'run_viz'</span>                                        <a href=\"file:///opt/anaconda3/envs/kedro-session/lib/python3.10/site-packages/kedro/ipython/__init__.py\" target=\"_blank\"><span style=\"color: #7f7f7f; text-decoration-color: #7f7f7f\">__init__.py</span></a><span style=\"color: #7f7f7f; text-decoration-color: #7f7f7f\">:</span><a href=\"file:///opt/anaconda3/envs/kedro-session/lib/python3.10/site-packages/kedro/ipython/__init__.py#141\" target=\"_blank\"><span style=\"color: #7f7f7f; text-decoration-color: #7f7f7f\">141</span></a>\n",
       "</pre>\n"
      ],
      "text/plain": [
       "\u001b[2;36m[04/03/24 10:58:50]\u001b[0m\u001b[2;36m \u001b[0m\u001b[34mINFO    \u001b[0m Registered line magic \u001b[32m'run_viz'\u001b[0m                                        \u001b]8;id=292714;file:///opt/anaconda3/envs/kedro-session/lib/python3.10/site-packages/kedro/ipython/__init__.py\u001b\\\u001b[2m__init__.py\u001b[0m\u001b]8;;\u001b\\\u001b[2m:\u001b[0m\u001b]8;id=903511;file:///opt/anaconda3/envs/kedro-session/lib/python3.10/site-packages/kedro/ipython/__init__.py#141\u001b\\\u001b[2m141\u001b[0m\u001b]8;;\u001b\\\n"
      ]
     },
     "metadata": {},
     "output_type": "display_data"
    }
   ],
   "source": [
    "%load_ext kedro.ipython"
   ]
  },
  {
   "cell_type": "code",
   "execution_count": 2,
   "metadata": {},
   "outputs": [],
   "source": [
    "import pandas as pd\n",
    "import numpy as np\n",
    "\n",
    "from imblearn.under_sampling import RandomUnderSampler\n",
    "from sklearn.compose import ColumnTransformer\n",
    "from sklearn.model_selection import train_test_split\n",
    "from sklearn.pipeline import Pipeline\n",
    "from sklearn.preprocessing import OneHotEncoder, MinMaxScaler, StandardScaler"
   ]
  },
  {
   "cell_type": "code",
   "execution_count": 3,
   "metadata": {},
   "outputs": [
    {
     "data": {
      "text/html": [
       "<pre style=\"white-space:pre;overflow-x:auto;line-height:normal;font-family:Menlo,'DejaVu Sans Mono',consolas,'Courier New',monospace\"></pre>\n"
      ],
      "text/plain": []
     },
     "metadata": {},
     "output_type": "display_data"
    },
    {
     "data": {
      "text/plain": [
       "\n",
       "\u001b[1m[\u001b[0m\n",
       "    \u001b[32m'fraud_train_raw'\u001b[0m,\n",
       "    \u001b[32m'fraud_test_raw'\u001b[0m,\n",
       "    \u001b[32m'raw_merged'\u001b[0m,\n",
       "    \u001b[32m'raw_merged_prepared'\u001b[0m,\n",
       "    \u001b[32m'fraud_train_unprocessed'\u001b[0m,\n",
       "    \u001b[32m'fraud_test_unprocessed'\u001b[0m,\n",
       "    \u001b[32m'fraud_val_unprocessed'\u001b[0m,\n",
       "    \u001b[32m'fraud_train_processed'\u001b[0m,\n",
       "    \u001b[32m'fraud_test_processed'\u001b[0m,\n",
       "    \u001b[32m'fraud_val_processed'\u001b[0m,\n",
       "    \u001b[32m'ml_model'\u001b[0m,\n",
       "    \u001b[32m'classification_report'\u001b[0m,\n",
       "    \u001b[32m'parameters'\u001b[0m,\n",
       "    \u001b[32m'params:predictor_cols'\u001b[0m,\n",
       "    \u001b[32m'params:target_col'\u001b[0m,\n",
       "    \u001b[32m'params:top_categories'\u001b[0m,\n",
       "    \u001b[32m'params:top_categories.cities'\u001b[0m,\n",
       "    \u001b[32m'params:top_categories.states'\u001b[0m,\n",
       "    \u001b[32m'params:test_size'\u001b[0m,\n",
       "    \u001b[32m'params:undersampling'\u001b[0m,\n",
       "    \u001b[32m'params:undersampling.desired_proportion'\u001b[0m,\n",
       "    \u001b[32m'params:undersampling.total_samples'\u001b[0m,\n",
       "    \u001b[32m'params:preprocess_features'\u001b[0m,\n",
       "    \u001b[32m'params:preprocess_features.numeric_features'\u001b[0m,\n",
       "    \u001b[32m'params:preprocess_features.numeric_features.standard'\u001b[0m,\n",
       "    \u001b[32m'params:preprocess_features.numeric_features.minmax'\u001b[0m,\n",
       "    \u001b[32m'params:preprocess_features.categorical_features'\u001b[0m,\n",
       "    \u001b[32m'params:preprocess_features.categorical_features.onehot'\u001b[0m,\n",
       "    \u001b[32m'params:random_state'\u001b[0m,\n",
       "    \u001b[32m'params:contamination_value'\u001b[0m\n",
       "\u001b[1m]\u001b[0m"
      ]
     },
     "execution_count": 3,
     "metadata": {},
     "output_type": "execute_result"
    }
   ],
   "source": [
    "catalog.list()"
   ]
  },
  {
   "cell_type": "code",
   "execution_count": 4,
   "metadata": {},
   "outputs": [
    {
     "data": {
      "text/html": [
       "<pre style=\"white-space:pre;overflow-x:auto;line-height:normal;font-family:Menlo,'DejaVu Sans Mono',consolas,'Courier New',monospace\"><span style=\"color: #7fbfbf; text-decoration-color: #7fbfbf\">[04/03/24 10:58:52] </span><span style=\"color: #000080; text-decoration-color: #000080\">INFO    </span> Loading data from <span style=\"color: #ff8700; text-decoration-color: #ff8700\">params:predictor_cols</span> <span style=\"font-weight: bold\">(</span>MemoryDataset<span style=\"font-weight: bold\">)</span><span style=\"color: #808000; text-decoration-color: #808000\">...</span>         <a href=\"file:///opt/anaconda3/envs/kedro-session/lib/python3.10/site-packages/kedro/io/data_catalog.py\" target=\"_blank\"><span style=\"color: #7f7f7f; text-decoration-color: #7f7f7f\">data_catalog.py</span></a><span style=\"color: #7f7f7f; text-decoration-color: #7f7f7f\">:</span><a href=\"file:///opt/anaconda3/envs/kedro-session/lib/python3.10/site-packages/kedro/io/data_catalog.py#483\" target=\"_blank\"><span style=\"color: #7f7f7f; text-decoration-color: #7f7f7f\">483</span></a>\n",
       "</pre>\n"
      ],
      "text/plain": [
       "\u001b[2;36m[04/03/24 10:58:52]\u001b[0m\u001b[2;36m \u001b[0m\u001b[34mINFO    \u001b[0m Loading data from \u001b[38;5;208mparams:predictor_cols\u001b[0m \u001b[1m(\u001b[0mMemoryDataset\u001b[1m)\u001b[0m\u001b[33m...\u001b[0m         \u001b]8;id=623877;file:///opt/anaconda3/envs/kedro-session/lib/python3.10/site-packages/kedro/io/data_catalog.py\u001b\\\u001b[2mdata_catalog.py\u001b[0m\u001b]8;;\u001b\\\u001b[2m:\u001b[0m\u001b]8;id=450148;file:///opt/anaconda3/envs/kedro-session/lib/python3.10/site-packages/kedro/io/data_catalog.py#483\u001b\\\u001b[2m483\u001b[0m\u001b]8;;\u001b\\\n"
      ]
     },
     "metadata": {},
     "output_type": "display_data"
    },
    {
     "data": {
      "text/html": [
       "<pre style=\"white-space:pre;overflow-x:auto;line-height:normal;font-family:Menlo,'DejaVu Sans Mono',consolas,'Courier New',monospace\"></pre>\n"
      ],
      "text/plain": []
     },
     "metadata": {},
     "output_type": "display_data"
    },
    {
     "data": {
      "text/plain": [
       "\u001b[1m[\u001b[0m\u001b[32m'trans_date_trans_time'\u001b[0m, \u001b[32m'category'\u001b[0m, \u001b[32m'amt'\u001b[0m, \u001b[32m'city'\u001b[0m, \u001b[32m'state'\u001b[0m, \u001b[32m'dob'\u001b[0m, \u001b[32m'is_fraud'\u001b[0m\u001b[1m]\u001b[0m"
      ]
     },
     "execution_count": 4,
     "metadata": {},
     "output_type": "execute_result"
    }
   ],
   "source": [
    "predictor_cols = catalog.load(\"params:predictor_cols\")\n",
    "predictor_cols"
   ]
  },
  {
   "cell_type": "code",
   "execution_count": 5,
   "metadata": {},
   "outputs": [
    {
     "data": {
      "text/html": [
       "<pre style=\"white-space:pre;overflow-x:auto;line-height:normal;font-family:Menlo,'DejaVu Sans Mono',consolas,'Courier New',monospace\"><span style=\"color: #7fbfbf; text-decoration-color: #7fbfbf\">                    </span><span style=\"color: #000080; text-decoration-color: #000080\">INFO    </span> Loading data from <span style=\"color: #ff8700; text-decoration-color: #ff8700\">fraud_train_raw</span> <span style=\"font-weight: bold\">(</span>CSVDataset<span style=\"font-weight: bold\">)</span><span style=\"color: #808000; text-decoration-color: #808000\">...</span>                  <a href=\"file:///opt/anaconda3/envs/kedro-session/lib/python3.10/site-packages/kedro/io/data_catalog.py\" target=\"_blank\"><span style=\"color: #7f7f7f; text-decoration-color: #7f7f7f\">data_catalog.py</span></a><span style=\"color: #7f7f7f; text-decoration-color: #7f7f7f\">:</span><a href=\"file:///opt/anaconda3/envs/kedro-session/lib/python3.10/site-packages/kedro/io/data_catalog.py#483\" target=\"_blank\"><span style=\"color: #7f7f7f; text-decoration-color: #7f7f7f\">483</span></a>\n",
       "</pre>\n"
      ],
      "text/plain": [
       "\u001b[2;36m                   \u001b[0m\u001b[2;36m \u001b[0m\u001b[34mINFO    \u001b[0m Loading data from \u001b[38;5;208mfraud_train_raw\u001b[0m \u001b[1m(\u001b[0mCSVDataset\u001b[1m)\u001b[0m\u001b[33m...\u001b[0m                  \u001b]8;id=415749;file:///opt/anaconda3/envs/kedro-session/lib/python3.10/site-packages/kedro/io/data_catalog.py\u001b\\\u001b[2mdata_catalog.py\u001b[0m\u001b]8;;\u001b\\\u001b[2m:\u001b[0m\u001b]8;id=176553;file:///opt/anaconda3/envs/kedro-session/lib/python3.10/site-packages/kedro/io/data_catalog.py#483\u001b\\\u001b[2m483\u001b[0m\u001b]8;;\u001b\\\n"
      ]
     },
     "metadata": {},
     "output_type": "display_data"
    },
    {
     "data": {
      "text/html": [
       "<pre style=\"white-space:pre;overflow-x:auto;line-height:normal;font-family:Menlo,'DejaVu Sans Mono',consolas,'Courier New',monospace\"></pre>\n"
      ],
      "text/plain": []
     },
     "metadata": {},
     "output_type": "display_data"
    },
    {
     "data": {
      "text/html": [
       "<div>\n",
       "<style scoped>\n",
       "    .dataframe tbody tr th:only-of-type {\n",
       "        vertical-align: middle;\n",
       "    }\n",
       "\n",
       "    .dataframe tbody tr th {\n",
       "        vertical-align: top;\n",
       "    }\n",
       "\n",
       "    .dataframe thead th {\n",
       "        text-align: right;\n",
       "    }\n",
       "</style>\n",
       "<table border=\"1\" class=\"dataframe\">\n",
       "  <thead>\n",
       "    <tr style=\"text-align: right;\">\n",
       "      <th></th>\n",
       "      <th>trans_date_trans_time</th>\n",
       "      <th>category</th>\n",
       "      <th>amt</th>\n",
       "      <th>city</th>\n",
       "      <th>state</th>\n",
       "      <th>dob</th>\n",
       "      <th>is_fraud</th>\n",
       "    </tr>\n",
       "  </thead>\n",
       "  <tbody>\n",
       "    <tr>\n",
       "      <th>0</th>\n",
       "      <td>2019-01-01 00:00:18</td>\n",
       "      <td>misc_net</td>\n",
       "      <td>4.97</td>\n",
       "      <td>Moravian Falls</td>\n",
       "      <td>NC</td>\n",
       "      <td>1988-03-09</td>\n",
       "      <td>0</td>\n",
       "    </tr>\n",
       "    <tr>\n",
       "      <th>1</th>\n",
       "      <td>2019-01-01 00:00:44</td>\n",
       "      <td>grocery_pos</td>\n",
       "      <td>107.23</td>\n",
       "      <td>Orient</td>\n",
       "      <td>WA</td>\n",
       "      <td>1978-06-21</td>\n",
       "      <td>0</td>\n",
       "    </tr>\n",
       "    <tr>\n",
       "      <th>2</th>\n",
       "      <td>2019-01-01 00:00:51</td>\n",
       "      <td>entertainment</td>\n",
       "      <td>220.11</td>\n",
       "      <td>Malad City</td>\n",
       "      <td>ID</td>\n",
       "      <td>1962-01-19</td>\n",
       "      <td>0</td>\n",
       "    </tr>\n",
       "    <tr>\n",
       "      <th>3</th>\n",
       "      <td>2019-01-01 00:01:16</td>\n",
       "      <td>gas_transport</td>\n",
       "      <td>45.00</td>\n",
       "      <td>Boulder</td>\n",
       "      <td>MT</td>\n",
       "      <td>1967-01-12</td>\n",
       "      <td>0</td>\n",
       "    </tr>\n",
       "    <tr>\n",
       "      <th>4</th>\n",
       "      <td>2019-01-01 00:03:06</td>\n",
       "      <td>misc_pos</td>\n",
       "      <td>41.96</td>\n",
       "      <td>Doe Hill</td>\n",
       "      <td>VA</td>\n",
       "      <td>1986-03-28</td>\n",
       "      <td>0</td>\n",
       "    </tr>\n",
       "    <tr>\n",
       "      <th>...</th>\n",
       "      <td>...</td>\n",
       "      <td>...</td>\n",
       "      <td>...</td>\n",
       "      <td>...</td>\n",
       "      <td>...</td>\n",
       "      <td>...</td>\n",
       "      <td>...</td>\n",
       "    </tr>\n",
       "    <tr>\n",
       "      <th>1296670</th>\n",
       "      <td>2020-06-21 12:12:08</td>\n",
       "      <td>entertainment</td>\n",
       "      <td>15.56</td>\n",
       "      <td>Hatch</td>\n",
       "      <td>UT</td>\n",
       "      <td>1961-11-24</td>\n",
       "      <td>0</td>\n",
       "    </tr>\n",
       "    <tr>\n",
       "      <th>1296671</th>\n",
       "      <td>2020-06-21 12:12:19</td>\n",
       "      <td>food_dining</td>\n",
       "      <td>51.70</td>\n",
       "      <td>Tuscarora</td>\n",
       "      <td>MD</td>\n",
       "      <td>1979-12-11</td>\n",
       "      <td>0</td>\n",
       "    </tr>\n",
       "    <tr>\n",
       "      <th>1296672</th>\n",
       "      <td>2020-06-21 12:12:32</td>\n",
       "      <td>food_dining</td>\n",
       "      <td>105.93</td>\n",
       "      <td>High Rolls Mountain Park</td>\n",
       "      <td>NM</td>\n",
       "      <td>1967-08-30</td>\n",
       "      <td>0</td>\n",
       "    </tr>\n",
       "    <tr>\n",
       "      <th>1296673</th>\n",
       "      <td>2020-06-21 12:13:36</td>\n",
       "      <td>food_dining</td>\n",
       "      <td>74.90</td>\n",
       "      <td>Manderson</td>\n",
       "      <td>SD</td>\n",
       "      <td>1980-08-18</td>\n",
       "      <td>0</td>\n",
       "    </tr>\n",
       "    <tr>\n",
       "      <th>1296674</th>\n",
       "      <td>2020-06-21 12:13:37</td>\n",
       "      <td>food_dining</td>\n",
       "      <td>4.30</td>\n",
       "      <td>Sula</td>\n",
       "      <td>MT</td>\n",
       "      <td>1995-08-16</td>\n",
       "      <td>0</td>\n",
       "    </tr>\n",
       "  </tbody>\n",
       "</table>\n",
       "<p>1296675 rows × 7 columns</p>\n",
       "</div>"
      ],
      "text/plain": [
       "\n",
       "        trans_date_trans_time       category     amt  \\\n",
       "\u001b[1;36m0\u001b[0m         \u001b[1;36m2019\u001b[0m-\u001b[1;36m01\u001b[0m-\u001b[1;36m01\u001b[0m \u001b[1;92m00:00:18\u001b[0m       misc_net    \u001b[1;36m4.97\u001b[0m   \n",
       "\u001b[1;36m1\u001b[0m         \u001b[1;36m2019\u001b[0m-\u001b[1;36m01\u001b[0m-\u001b[1;36m01\u001b[0m \u001b[1;92m00:00:44\u001b[0m    grocery_pos  \u001b[1;36m107.23\u001b[0m   \n",
       "\u001b[1;36m2\u001b[0m         \u001b[1;36m2019\u001b[0m-\u001b[1;36m01\u001b[0m-\u001b[1;36m01\u001b[0m \u001b[1;92m00:00:51\u001b[0m  entertainment  \u001b[1;36m220.11\u001b[0m   \n",
       "\u001b[1;36m3\u001b[0m         \u001b[1;36m2019\u001b[0m-\u001b[1;36m01\u001b[0m-\u001b[1;36m01\u001b[0m \u001b[1;92m00:01:16\u001b[0m  gas_transport   \u001b[1;36m45.00\u001b[0m   \n",
       "\u001b[1;36m4\u001b[0m         \u001b[1;36m2019\u001b[0m-\u001b[1;36m01\u001b[0m-\u001b[1;36m01\u001b[0m \u001b[1;92m00:03:06\u001b[0m       misc_pos   \u001b[1;36m41.96\u001b[0m   \n",
       "\u001b[33m...\u001b[0m                       \u001b[33m...\u001b[0m            \u001b[33m...\u001b[0m     \u001b[33m...\u001b[0m   \n",
       "\u001b[1;36m1296670\u001b[0m   \u001b[1;36m2020\u001b[0m-\u001b[1;36m06\u001b[0m-\u001b[1;36m21\u001b[0m \u001b[1;92m12:12:08\u001b[0m  entertainment   \u001b[1;36m15.56\u001b[0m   \n",
       "\u001b[1;36m1296671\u001b[0m   \u001b[1;36m2020\u001b[0m-\u001b[1;36m06\u001b[0m-\u001b[1;36m21\u001b[0m \u001b[1;92m12:12:19\u001b[0m    food_dining   \u001b[1;36m51.70\u001b[0m   \n",
       "\u001b[1;36m1296672\u001b[0m   \u001b[1;36m2020\u001b[0m-\u001b[1;36m06\u001b[0m-\u001b[1;36m21\u001b[0m \u001b[1;92m12:12:32\u001b[0m    food_dining  \u001b[1;36m105.93\u001b[0m   \n",
       "\u001b[1;36m1296673\u001b[0m   \u001b[1;36m2020\u001b[0m-\u001b[1;36m06\u001b[0m-\u001b[1;36m21\u001b[0m \u001b[1;92m12:13:36\u001b[0m    food_dining   \u001b[1;36m74.90\u001b[0m   \n",
       "\u001b[1;36m1296674\u001b[0m   \u001b[1;36m2020\u001b[0m-\u001b[1;36m06\u001b[0m-\u001b[1;36m21\u001b[0m \u001b[1;92m12:13:37\u001b[0m    food_dining    \u001b[1;36m4.30\u001b[0m   \n",
       "\n",
       "                             city state         dob  is_fraud  \n",
       "\u001b[1;36m0\u001b[0m                  Moravian Falls    NC  \u001b[1;36m1988\u001b[0m-\u001b[1;36m03\u001b[0m-\u001b[1;36m09\u001b[0m         \u001b[1;36m0\u001b[0m  \n",
       "\u001b[1;36m1\u001b[0m                          Orient    WA  \u001b[1;36m1978\u001b[0m-\u001b[1;36m06\u001b[0m-\u001b[1;36m21\u001b[0m         \u001b[1;36m0\u001b[0m  \n",
       "\u001b[1;36m2\u001b[0m                      Malad City    ID  \u001b[1;36m1962\u001b[0m-\u001b[1;36m01\u001b[0m-\u001b[1;36m19\u001b[0m         \u001b[1;36m0\u001b[0m  \n",
       "\u001b[1;36m3\u001b[0m                         Boulder    MT  \u001b[1;36m1967\u001b[0m-\u001b[1;36m01\u001b[0m-\u001b[1;36m12\u001b[0m         \u001b[1;36m0\u001b[0m  \n",
       "\u001b[1;36m4\u001b[0m                        Doe Hill    VA  \u001b[1;36m1986\u001b[0m-\u001b[1;36m03\u001b[0m-\u001b[1;36m28\u001b[0m         \u001b[1;36m0\u001b[0m  \n",
       "\u001b[33m...\u001b[0m                           \u001b[33m...\u001b[0m   \u001b[33m...\u001b[0m         \u001b[33m...\u001b[0m       \u001b[33m...\u001b[0m  \n",
       "\u001b[1;36m1296670\u001b[0m                     Hatch    UT  \u001b[1;36m1961\u001b[0m-\u001b[1;36m11\u001b[0m-\u001b[1;36m24\u001b[0m         \u001b[1;36m0\u001b[0m  \n",
       "\u001b[1;36m1296671\u001b[0m                 Tuscarora    MD  \u001b[1;36m1979\u001b[0m-\u001b[1;36m12\u001b[0m-\u001b[1;36m11\u001b[0m         \u001b[1;36m0\u001b[0m  \n",
       "\u001b[1;36m1296672\u001b[0m  High Rolls Mountain Park    NM  \u001b[1;36m1967\u001b[0m-\u001b[1;36m08\u001b[0m-\u001b[1;36m30\u001b[0m         \u001b[1;36m0\u001b[0m  \n",
       "\u001b[1;36m1296673\u001b[0m                 Manderson    SD  \u001b[1;36m1980\u001b[0m-\u001b[1;36m08\u001b[0m-\u001b[1;36m18\u001b[0m         \u001b[1;36m0\u001b[0m  \n",
       "\u001b[1;36m1296674\u001b[0m                      Sula    MT  \u001b[1;36m1995\u001b[0m-\u001b[1;36m08\u001b[0m-\u001b[1;36m16\u001b[0m         \u001b[1;36m0\u001b[0m  \n",
       "\n",
       "\u001b[1m[\u001b[0m\u001b[1;36m1296675\u001b[0m rows x \u001b[1;36m7\u001b[0m columns\u001b[1m]\u001b[0m"
      ]
     },
     "execution_count": 5,
     "metadata": {},
     "output_type": "execute_result"
    }
   ],
   "source": [
    "train_df = catalog.load(\"fraud_train_raw\")\n",
    "\n",
    "# Select only columns in `predictor_cols`\n",
    "train_df = train_df[predictor_cols]\n",
    "train_df"
   ]
  },
  {
   "cell_type": "code",
   "execution_count": 6,
   "metadata": {},
   "outputs": [
    {
     "data": {
      "text/html": [
       "<pre style=\"white-space:pre;overflow-x:auto;line-height:normal;font-family:Menlo,'DejaVu Sans Mono',consolas,'Courier New',monospace\"></pre>\n"
      ],
      "text/plain": []
     },
     "metadata": {},
     "output_type": "display_data"
    },
    {
     "data": {
      "text/plain": [
       "\n",
       "trans_date_trans_time     object\n",
       "category                  object\n",
       "amt                      float64\n",
       "city                      object\n",
       "state                     object\n",
       "dob                       object\n",
       "is_fraud                   int64\n",
       "dtype: object"
      ]
     },
     "execution_count": 6,
     "metadata": {},
     "output_type": "execute_result"
    }
   ],
   "source": [
    "train_df.dtypes"
   ]
  },
  {
   "cell_type": "code",
   "execution_count": 7,
   "metadata": {},
   "outputs": [
    {
     "data": {
      "text/html": [
       "<pre style=\"white-space:pre;overflow-x:auto;line-height:normal;font-family:Menlo,'DejaVu Sans Mono',consolas,'Courier New',monospace\"><span style=\"color: #7fbfbf; text-decoration-color: #7fbfbf\">[04/03/24 10:59:00] </span><span style=\"color: #000080; text-decoration-color: #000080\">INFO    </span> Loading data from <span style=\"color: #ff8700; text-decoration-color: #ff8700\">fraud_test_raw</span> <span style=\"font-weight: bold\">(</span>CSVDataset<span style=\"font-weight: bold\">)</span><span style=\"color: #808000; text-decoration-color: #808000\">...</span>                   <a href=\"file:///opt/anaconda3/envs/kedro-session/lib/python3.10/site-packages/kedro/io/data_catalog.py\" target=\"_blank\"><span style=\"color: #7f7f7f; text-decoration-color: #7f7f7f\">data_catalog.py</span></a><span style=\"color: #7f7f7f; text-decoration-color: #7f7f7f\">:</span><a href=\"file:///opt/anaconda3/envs/kedro-session/lib/python3.10/site-packages/kedro/io/data_catalog.py#483\" target=\"_blank\"><span style=\"color: #7f7f7f; text-decoration-color: #7f7f7f\">483</span></a>\n",
       "</pre>\n"
      ],
      "text/plain": [
       "\u001b[2;36m[04/03/24 10:59:00]\u001b[0m\u001b[2;36m \u001b[0m\u001b[34mINFO    \u001b[0m Loading data from \u001b[38;5;208mfraud_test_raw\u001b[0m \u001b[1m(\u001b[0mCSVDataset\u001b[1m)\u001b[0m\u001b[33m...\u001b[0m                   \u001b]8;id=190564;file:///opt/anaconda3/envs/kedro-session/lib/python3.10/site-packages/kedro/io/data_catalog.py\u001b\\\u001b[2mdata_catalog.py\u001b[0m\u001b]8;;\u001b\\\u001b[2m:\u001b[0m\u001b]8;id=106623;file:///opt/anaconda3/envs/kedro-session/lib/python3.10/site-packages/kedro/io/data_catalog.py#483\u001b\\\u001b[2m483\u001b[0m\u001b]8;;\u001b\\\n"
      ]
     },
     "metadata": {},
     "output_type": "display_data"
    },
    {
     "data": {
      "text/html": [
       "<pre style=\"white-space:pre;overflow-x:auto;line-height:normal;font-family:Menlo,'DejaVu Sans Mono',consolas,'Courier New',monospace\"></pre>\n"
      ],
      "text/plain": []
     },
     "metadata": {},
     "output_type": "display_data"
    },
    {
     "data": {
      "text/html": [
       "<div>\n",
       "<style scoped>\n",
       "    .dataframe tbody tr th:only-of-type {\n",
       "        vertical-align: middle;\n",
       "    }\n",
       "\n",
       "    .dataframe tbody tr th {\n",
       "        vertical-align: top;\n",
       "    }\n",
       "\n",
       "    .dataframe thead th {\n",
       "        text-align: right;\n",
       "    }\n",
       "</style>\n",
       "<table border=\"1\" class=\"dataframe\">\n",
       "  <thead>\n",
       "    <tr style=\"text-align: right;\">\n",
       "      <th></th>\n",
       "      <th>trans_date_trans_time</th>\n",
       "      <th>category</th>\n",
       "      <th>amt</th>\n",
       "      <th>city</th>\n",
       "      <th>state</th>\n",
       "      <th>dob</th>\n",
       "      <th>is_fraud</th>\n",
       "    </tr>\n",
       "  </thead>\n",
       "  <tbody>\n",
       "    <tr>\n",
       "      <th>0</th>\n",
       "      <td>2020-06-21 12:14:25</td>\n",
       "      <td>personal_care</td>\n",
       "      <td>2.86</td>\n",
       "      <td>Columbia</td>\n",
       "      <td>SC</td>\n",
       "      <td>1968-03-19</td>\n",
       "      <td>0</td>\n",
       "    </tr>\n",
       "    <tr>\n",
       "      <th>1</th>\n",
       "      <td>2020-06-21 12:14:33</td>\n",
       "      <td>personal_care</td>\n",
       "      <td>29.84</td>\n",
       "      <td>Altonah</td>\n",
       "      <td>UT</td>\n",
       "      <td>1990-01-17</td>\n",
       "      <td>0</td>\n",
       "    </tr>\n",
       "    <tr>\n",
       "      <th>2</th>\n",
       "      <td>2020-06-21 12:14:53</td>\n",
       "      <td>health_fitness</td>\n",
       "      <td>41.28</td>\n",
       "      <td>Bellmore</td>\n",
       "      <td>NY</td>\n",
       "      <td>1970-10-21</td>\n",
       "      <td>0</td>\n",
       "    </tr>\n",
       "    <tr>\n",
       "      <th>3</th>\n",
       "      <td>2020-06-21 12:15:15</td>\n",
       "      <td>misc_pos</td>\n",
       "      <td>60.05</td>\n",
       "      <td>Titusville</td>\n",
       "      <td>FL</td>\n",
       "      <td>1987-07-25</td>\n",
       "      <td>0</td>\n",
       "    </tr>\n",
       "    <tr>\n",
       "      <th>4</th>\n",
       "      <td>2020-06-21 12:15:17</td>\n",
       "      <td>travel</td>\n",
       "      <td>3.19</td>\n",
       "      <td>Falmouth</td>\n",
       "      <td>MI</td>\n",
       "      <td>1955-07-06</td>\n",
       "      <td>0</td>\n",
       "    </tr>\n",
       "    <tr>\n",
       "      <th>...</th>\n",
       "      <td>...</td>\n",
       "      <td>...</td>\n",
       "      <td>...</td>\n",
       "      <td>...</td>\n",
       "      <td>...</td>\n",
       "      <td>...</td>\n",
       "      <td>...</td>\n",
       "    </tr>\n",
       "    <tr>\n",
       "      <th>555714</th>\n",
       "      <td>2020-12-31 23:59:07</td>\n",
       "      <td>health_fitness</td>\n",
       "      <td>43.77</td>\n",
       "      <td>Luray</td>\n",
       "      <td>MO</td>\n",
       "      <td>1966-02-13</td>\n",
       "      <td>0</td>\n",
       "    </tr>\n",
       "    <tr>\n",
       "      <th>555715</th>\n",
       "      <td>2020-12-31 23:59:09</td>\n",
       "      <td>kids_pets</td>\n",
       "      <td>111.84</td>\n",
       "      <td>Lake Jackson</td>\n",
       "      <td>TX</td>\n",
       "      <td>1999-12-27</td>\n",
       "      <td>0</td>\n",
       "    </tr>\n",
       "    <tr>\n",
       "      <th>555716</th>\n",
       "      <td>2020-12-31 23:59:15</td>\n",
       "      <td>kids_pets</td>\n",
       "      <td>86.88</td>\n",
       "      <td>Burbank</td>\n",
       "      <td>WA</td>\n",
       "      <td>1981-11-29</td>\n",
       "      <td>0</td>\n",
       "    </tr>\n",
       "    <tr>\n",
       "      <th>555717</th>\n",
       "      <td>2020-12-31 23:59:24</td>\n",
       "      <td>travel</td>\n",
       "      <td>7.99</td>\n",
       "      <td>Mesa</td>\n",
       "      <td>ID</td>\n",
       "      <td>1965-12-15</td>\n",
       "      <td>0</td>\n",
       "    </tr>\n",
       "    <tr>\n",
       "      <th>555718</th>\n",
       "      <td>2020-12-31 23:59:34</td>\n",
       "      <td>entertainment</td>\n",
       "      <td>38.13</td>\n",
       "      <td>Edmond</td>\n",
       "      <td>OK</td>\n",
       "      <td>1993-05-10</td>\n",
       "      <td>0</td>\n",
       "    </tr>\n",
       "  </tbody>\n",
       "</table>\n",
       "<p>555719 rows × 7 columns</p>\n",
       "</div>"
      ],
      "text/plain": [
       "\n",
       "       trans_date_trans_time        category     amt          city state  \\\n",
       "\u001b[1;36m0\u001b[0m        \u001b[1;36m2020\u001b[0m-\u001b[1;36m06\u001b[0m-\u001b[1;36m21\u001b[0m \u001b[1;92m12:14:25\u001b[0m   personal_care    \u001b[1;36m2.86\u001b[0m      Columbia    SC   \n",
       "\u001b[1;36m1\u001b[0m        \u001b[1;36m2020\u001b[0m-\u001b[1;36m06\u001b[0m-\u001b[1;36m21\u001b[0m \u001b[1;92m12:14:33\u001b[0m   personal_care   \u001b[1;36m29.84\u001b[0m       Altonah    UT   \n",
       "\u001b[1;36m2\u001b[0m        \u001b[1;36m2020\u001b[0m-\u001b[1;36m06\u001b[0m-\u001b[1;36m21\u001b[0m \u001b[1;92m12:14:53\u001b[0m  health_fitness   \u001b[1;36m41.28\u001b[0m      Bellmore    NY   \n",
       "\u001b[1;36m3\u001b[0m        \u001b[1;36m2020\u001b[0m-\u001b[1;36m06\u001b[0m-\u001b[1;36m21\u001b[0m \u001b[1;92m12:15:15\u001b[0m        misc_pos   \u001b[1;36m60.05\u001b[0m    Titusville    FL   \n",
       "\u001b[1;36m4\u001b[0m        \u001b[1;36m2020\u001b[0m-\u001b[1;36m06\u001b[0m-\u001b[1;36m21\u001b[0m \u001b[1;92m12:15:17\u001b[0m          travel    \u001b[1;36m3.19\u001b[0m      Falmouth    MI   \n",
       "\u001b[33m...\u001b[0m                      \u001b[33m...\u001b[0m             \u001b[33m...\u001b[0m     \u001b[33m...\u001b[0m           \u001b[33m...\u001b[0m   \u001b[33m...\u001b[0m   \n",
       "\u001b[1;36m555714\u001b[0m   \u001b[1;36m2020\u001b[0m-\u001b[1;36m12\u001b[0m-\u001b[1;36m31\u001b[0m \u001b[1;92m23:59:07\u001b[0m  health_fitness   \u001b[1;36m43.77\u001b[0m         Luray    MO   \n",
       "\u001b[1;36m555715\u001b[0m   \u001b[1;36m2020\u001b[0m-\u001b[1;36m12\u001b[0m-\u001b[1;36m31\u001b[0m \u001b[1;92m23:59:09\u001b[0m       kids_pets  \u001b[1;36m111.84\u001b[0m  Lake Jackson    TX   \n",
       "\u001b[1;36m555716\u001b[0m   \u001b[1;36m2020\u001b[0m-\u001b[1;36m12\u001b[0m-\u001b[1;36m31\u001b[0m \u001b[1;92m23:59:15\u001b[0m       kids_pets   \u001b[1;36m86.88\u001b[0m       Burbank    WA   \n",
       "\u001b[1;36m555717\u001b[0m   \u001b[1;36m2020\u001b[0m-\u001b[1;36m12\u001b[0m-\u001b[1;36m31\u001b[0m \u001b[1;92m23:59:24\u001b[0m          travel    \u001b[1;36m7.99\u001b[0m          Mesa    ID   \n",
       "\u001b[1;36m555718\u001b[0m   \u001b[1;36m2020\u001b[0m-\u001b[1;36m12\u001b[0m-\u001b[1;36m31\u001b[0m \u001b[1;92m23:59:34\u001b[0m   entertainment   \u001b[1;36m38.13\u001b[0m        Edmond    OK   \n",
       "\n",
       "               dob  is_fraud  \n",
       "\u001b[1;36m0\u001b[0m       \u001b[1;36m1968\u001b[0m-\u001b[1;36m03\u001b[0m-\u001b[1;36m19\u001b[0m         \u001b[1;36m0\u001b[0m  \n",
       "\u001b[1;36m1\u001b[0m       \u001b[1;36m1990\u001b[0m-\u001b[1;36m01\u001b[0m-\u001b[1;36m17\u001b[0m         \u001b[1;36m0\u001b[0m  \n",
       "\u001b[1;36m2\u001b[0m       \u001b[1;36m1970\u001b[0m-\u001b[1;36m10\u001b[0m-\u001b[1;36m21\u001b[0m         \u001b[1;36m0\u001b[0m  \n",
       "\u001b[1;36m3\u001b[0m       \u001b[1;36m1987\u001b[0m-\u001b[1;36m07\u001b[0m-\u001b[1;36m25\u001b[0m         \u001b[1;36m0\u001b[0m  \n",
       "\u001b[1;36m4\u001b[0m       \u001b[1;36m1955\u001b[0m-\u001b[1;36m07\u001b[0m-\u001b[1;36m06\u001b[0m         \u001b[1;36m0\u001b[0m  \n",
       "\u001b[33m...\u001b[0m            \u001b[33m...\u001b[0m       \u001b[33m...\u001b[0m  \n",
       "\u001b[1;36m555714\u001b[0m  \u001b[1;36m1966\u001b[0m-\u001b[1;36m02\u001b[0m-\u001b[1;36m13\u001b[0m         \u001b[1;36m0\u001b[0m  \n",
       "\u001b[1;36m555715\u001b[0m  \u001b[1;36m1999\u001b[0m-\u001b[1;36m12\u001b[0m-\u001b[1;36m27\u001b[0m         \u001b[1;36m0\u001b[0m  \n",
       "\u001b[1;36m555716\u001b[0m  \u001b[1;36m1981\u001b[0m-\u001b[1;36m11\u001b[0m-\u001b[1;36m29\u001b[0m         \u001b[1;36m0\u001b[0m  \n",
       "\u001b[1;36m555717\u001b[0m  \u001b[1;36m1965\u001b[0m-\u001b[1;36m12\u001b[0m-\u001b[1;36m15\u001b[0m         \u001b[1;36m0\u001b[0m  \n",
       "\u001b[1;36m555718\u001b[0m  \u001b[1;36m1993\u001b[0m-\u001b[1;36m05\u001b[0m-\u001b[1;36m10\u001b[0m         \u001b[1;36m0\u001b[0m  \n",
       "\n",
       "\u001b[1m[\u001b[0m\u001b[1;36m555719\u001b[0m rows x \u001b[1;36m7\u001b[0m columns\u001b[1m]\u001b[0m"
      ]
     },
     "execution_count": 7,
     "metadata": {},
     "output_type": "execute_result"
    }
   ],
   "source": [
    "test_df = catalog.load(\"fraud_test_raw\")\n",
    "\n",
    "# Select only columns in `predictor_cols`\n",
    "test_df = test_df[predictor_cols]\n",
    "test_df"
   ]
  },
  {
   "cell_type": "code",
   "execution_count": 8,
   "metadata": {},
   "outputs": [
    {
     "data": {
      "text/html": [
       "<pre style=\"white-space:pre;overflow-x:auto;line-height:normal;font-family:Menlo,'DejaVu Sans Mono',consolas,'Courier New',monospace\"></pre>\n"
      ],
      "text/plain": []
     },
     "metadata": {},
     "output_type": "display_data"
    },
    {
     "data": {
      "text/plain": [
       "\n",
       "trans_date_trans_time     object\n",
       "category                  object\n",
       "amt                      float64\n",
       "city                      object\n",
       "state                     object\n",
       "dob                       object\n",
       "is_fraud                   int64\n",
       "dtype: object"
      ]
     },
     "execution_count": 8,
     "metadata": {},
     "output_type": "execute_result"
    }
   ],
   "source": [
    "test_df.dtypes"
   ]
  },
  {
   "cell_type": "code",
   "execution_count": 9,
   "metadata": {},
   "outputs": [
    {
     "name": "stdout",
     "output_type": "stream",
     "text": [
      "Train shape: (1296675, 8)\n",
      "Test shape: (555719, 8)\n",
      "\n",
      "Combined shape: (1852394, 8)\n"
     ]
    }
   ],
   "source": [
    "train_df[\"dataset\"] = \"train\"\n",
    "test_df[\"dataset\"] = \"test\"\n",
    "\n",
    "raw_df = pd.concat([train_df, test_df], axis=0)\n",
    "\n",
    "print(f\"Train shape: {train_df.shape}\")\n",
    "print(f\"Test shape: {test_df.shape}\")\n",
    "print()\n",
    "print(f\"Combined shape: {raw_df.shape}\")"
   ]
  },
  {
   "cell_type": "markdown",
   "metadata": {},
   "source": [
    "## Preprocess"
   ]
  },
  {
   "cell_type": "code",
   "execution_count": 10,
   "metadata": {},
   "outputs": [
    {
     "data": {
      "text/html": [
       "<pre style=\"white-space:pre;overflow-x:auto;line-height:normal;font-family:Menlo,'DejaVu Sans Mono',consolas,'Courier New',monospace\"></pre>\n"
      ],
      "text/plain": []
     },
     "metadata": {},
     "output_type": "display_data"
    },
    {
     "data": {
      "text/html": [
       "<div>\n",
       "<style scoped>\n",
       "    .dataframe tbody tr th:only-of-type {\n",
       "        vertical-align: middle;\n",
       "    }\n",
       "\n",
       "    .dataframe tbody tr th {\n",
       "        vertical-align: top;\n",
       "    }\n",
       "\n",
       "    .dataframe thead th {\n",
       "        text-align: right;\n",
       "    }\n",
       "</style>\n",
       "<table border=\"1\" class=\"dataframe\">\n",
       "  <thead>\n",
       "    <tr style=\"text-align: right;\">\n",
       "      <th></th>\n",
       "      <th>trans_date_trans_time</th>\n",
       "      <th>category</th>\n",
       "      <th>amt</th>\n",
       "      <th>city</th>\n",
       "      <th>state</th>\n",
       "      <th>dob</th>\n",
       "      <th>is_fraud</th>\n",
       "      <th>dataset</th>\n",
       "      <th>dayofweek</th>\n",
       "      <th>hour</th>\n",
       "      <th>age</th>\n",
       "    </tr>\n",
       "  </thead>\n",
       "  <tbody>\n",
       "    <tr>\n",
       "      <th>0</th>\n",
       "      <td>2019-01-01 00:00:18</td>\n",
       "      <td>misc_net</td>\n",
       "      <td>4.97</td>\n",
       "      <td>Moravian Falls</td>\n",
       "      <td>NC</td>\n",
       "      <td>1988-03-09</td>\n",
       "      <td>0</td>\n",
       "      <td>train</td>\n",
       "      <td>1</td>\n",
       "      <td>0</td>\n",
       "      <td>31</td>\n",
       "    </tr>\n",
       "    <tr>\n",
       "      <th>1</th>\n",
       "      <td>2019-01-01 00:00:44</td>\n",
       "      <td>grocery_pos</td>\n",
       "      <td>107.23</td>\n",
       "      <td>Orient</td>\n",
       "      <td>WA</td>\n",
       "      <td>1978-06-21</td>\n",
       "      <td>0</td>\n",
       "      <td>train</td>\n",
       "      <td>1</td>\n",
       "      <td>0</td>\n",
       "      <td>41</td>\n",
       "    </tr>\n",
       "    <tr>\n",
       "      <th>2</th>\n",
       "      <td>2019-01-01 00:00:51</td>\n",
       "      <td>entertainment</td>\n",
       "      <td>220.11</td>\n",
       "      <td>Malad City</td>\n",
       "      <td>ID</td>\n",
       "      <td>1962-01-19</td>\n",
       "      <td>0</td>\n",
       "      <td>train</td>\n",
       "      <td>1</td>\n",
       "      <td>0</td>\n",
       "      <td>57</td>\n",
       "    </tr>\n",
       "    <tr>\n",
       "      <th>3</th>\n",
       "      <td>2019-01-01 00:01:16</td>\n",
       "      <td>gas_transport</td>\n",
       "      <td>45.00</td>\n",
       "      <td>Boulder</td>\n",
       "      <td>MT</td>\n",
       "      <td>1967-01-12</td>\n",
       "      <td>0</td>\n",
       "      <td>train</td>\n",
       "      <td>1</td>\n",
       "      <td>0</td>\n",
       "      <td>52</td>\n",
       "    </tr>\n",
       "    <tr>\n",
       "      <th>4</th>\n",
       "      <td>2019-01-01 00:03:06</td>\n",
       "      <td>misc_pos</td>\n",
       "      <td>41.96</td>\n",
       "      <td>Doe Hill</td>\n",
       "      <td>VA</td>\n",
       "      <td>1986-03-28</td>\n",
       "      <td>0</td>\n",
       "      <td>train</td>\n",
       "      <td>1</td>\n",
       "      <td>0</td>\n",
       "      <td>33</td>\n",
       "    </tr>\n",
       "  </tbody>\n",
       "</table>\n",
       "</div>"
      ],
      "text/plain": [
       "\n",
       "  trans_date_trans_time       category     amt            city state  \\\n",
       "\u001b[1;36m0\u001b[0m   \u001b[1;36m2019\u001b[0m-\u001b[1;36m01\u001b[0m-\u001b[1;36m01\u001b[0m \u001b[1;92m00:00:18\u001b[0m       misc_net    \u001b[1;36m4.97\u001b[0m  Moravian Falls    NC   \n",
       "\u001b[1;36m1\u001b[0m   \u001b[1;36m2019\u001b[0m-\u001b[1;36m01\u001b[0m-\u001b[1;36m01\u001b[0m \u001b[1;92m00:00:44\u001b[0m    grocery_pos  \u001b[1;36m107.23\u001b[0m          Orient    WA   \n",
       "\u001b[1;36m2\u001b[0m   \u001b[1;36m2019\u001b[0m-\u001b[1;36m01\u001b[0m-\u001b[1;36m01\u001b[0m \u001b[1;92m00:00:51\u001b[0m  entertainment  \u001b[1;36m220.11\u001b[0m      Malad City    ID   \n",
       "\u001b[1;36m3\u001b[0m   \u001b[1;36m2019\u001b[0m-\u001b[1;36m01\u001b[0m-\u001b[1;36m01\u001b[0m \u001b[1;92m00:01:16\u001b[0m  gas_transport   \u001b[1;36m45.00\u001b[0m         Boulder    MT   \n",
       "\u001b[1;36m4\u001b[0m   \u001b[1;36m2019\u001b[0m-\u001b[1;36m01\u001b[0m-\u001b[1;36m01\u001b[0m \u001b[1;92m00:03:06\u001b[0m       misc_pos   \u001b[1;36m41.96\u001b[0m        Doe Hill    VA   \n",
       "\n",
       "         dob  is_fraud dataset  dayofweek  hour  age  \n",
       "\u001b[1;36m0\u001b[0m \u001b[1;36m1988\u001b[0m-\u001b[1;36m03\u001b[0m-\u001b[1;36m09\u001b[0m         \u001b[1;36m0\u001b[0m   train          \u001b[1;36m1\u001b[0m     \u001b[1;36m0\u001b[0m   \u001b[1;36m31\u001b[0m  \n",
       "\u001b[1;36m1\u001b[0m \u001b[1;36m1978\u001b[0m-\u001b[1;36m06\u001b[0m-\u001b[1;36m21\u001b[0m         \u001b[1;36m0\u001b[0m   train          \u001b[1;36m1\u001b[0m     \u001b[1;36m0\u001b[0m   \u001b[1;36m41\u001b[0m  \n",
       "\u001b[1;36m2\u001b[0m \u001b[1;36m1962\u001b[0m-\u001b[1;36m01\u001b[0m-\u001b[1;36m19\u001b[0m         \u001b[1;36m0\u001b[0m   train          \u001b[1;36m1\u001b[0m     \u001b[1;36m0\u001b[0m   \u001b[1;36m57\u001b[0m  \n",
       "\u001b[1;36m3\u001b[0m \u001b[1;36m1967\u001b[0m-\u001b[1;36m01\u001b[0m-\u001b[1;36m12\u001b[0m         \u001b[1;36m0\u001b[0m   train          \u001b[1;36m1\u001b[0m     \u001b[1;36m0\u001b[0m   \u001b[1;36m52\u001b[0m  \n",
       "\u001b[1;36m4\u001b[0m \u001b[1;36m1986\u001b[0m-\u001b[1;36m03\u001b[0m-\u001b[1;36m28\u001b[0m         \u001b[1;36m0\u001b[0m   train          \u001b[1;36m1\u001b[0m     \u001b[1;36m0\u001b[0m   \u001b[1;36m33\u001b[0m  "
      ]
     },
     "execution_count": 10,
     "metadata": {},
     "output_type": "execute_result"
    }
   ],
   "source": [
    "raw_df[\"trans_date_trans_time\"] = pd.to_datetime(raw_df[\"trans_date_trans_time\"])\n",
    "raw_df[\"dob\"] = pd.to_datetime(raw_df[\"dob\"])\n",
    "\n",
    "# Day of week\n",
    "# days = {0: \"Mon\", 1: \"Tue\", 2: \"Wed\", 3: \"Thu\", 4: \"Fri\", 5: \"Sat\", 6: \"Sun\"}\n",
    "# raw_df[\"dayofweek\"] = raw_df[\"trans_date_trans_time\"].dt.dayofweek.map(days)\n",
    "raw_df[\"dayofweek\"] = raw_df[\"trans_date_trans_time\"].dt.dayofweek\n",
    "# Hour\n",
    "raw_df[\"hour\"] = raw_df[\"trans_date_trans_time\"].dt.hour\n",
    "# Age\n",
    "raw_df[\"age\"] = raw_df[\"trans_date_trans_time\"].dt.year - raw_df[\"dob\"].dt.year\n",
    "\n",
    "raw_df.head()"
   ]
  },
  {
   "cell_type": "markdown",
   "metadata": {},
   "source": [
    "### `category`"
   ]
  },
  {
   "cell_type": "code",
   "execution_count": 11,
   "metadata": {},
   "outputs": [
    {
     "data": {
      "text/html": [
       "<pre style=\"white-space:pre;overflow-x:auto;line-height:normal;font-family:Menlo,'DejaVu Sans Mono',consolas,'Courier New',monospace\"></pre>\n"
      ],
      "text/plain": []
     },
     "metadata": {},
     "output_type": "display_data"
    },
    {
     "data": {
      "text/plain": [
       "\u001b[1;36m14\u001b[0m"
      ]
     },
     "execution_count": 11,
     "metadata": {},
     "output_type": "execute_result"
    }
   ],
   "source": [
    "train_df[\"category\"].nunique()"
   ]
  },
  {
   "cell_type": "markdown",
   "metadata": {},
   "source": [
    "### `city`"
   ]
  },
  {
   "cell_type": "code",
   "execution_count": 12,
   "metadata": {},
   "outputs": [
    {
     "data": {
      "text/html": [
       "<pre style=\"white-space:pre;overflow-x:auto;line-height:normal;font-family:Menlo,'DejaVu Sans Mono',consolas,'Courier New',monospace\"></pre>\n"
      ],
      "text/plain": []
     },
     "metadata": {},
     "output_type": "display_data"
    },
    {
     "data": {
      "text/plain": [
       "\u001b[1;36m894\u001b[0m"
      ]
     },
     "execution_count": 12,
     "metadata": {},
     "output_type": "execute_result"
    }
   ],
   "source": [
    "train_df[\"city\"].nunique()"
   ]
  },
  {
   "cell_type": "code",
   "execution_count": 13,
   "metadata": {},
   "outputs": [],
   "source": [
    "city_percentile = 99"
   ]
  },
  {
   "cell_type": "code",
   "execution_count": 14,
   "metadata": {},
   "outputs": [
    {
     "name": "stdout",
     "output_type": "stream",
     "text": [
      "4198.169999999973\n"
     ]
    },
    {
     "data": {
      "text/html": [
       "<pre style=\"white-space:pre;overflow-x:auto;line-height:normal;font-family:Menlo,'DejaVu Sans Mono',consolas,'Courier New',monospace\"></pre>\n"
      ],
      "text/plain": []
     },
     "metadata": {},
     "output_type": "display_data"
    },
    {
     "data": {
      "text/plain": [
       "\u001b[1;36m9\u001b[0m"
      ]
     },
     "execution_count": 14,
     "metadata": {},
     "output_type": "execute_result"
    }
   ],
   "source": [
    "city_threshold = np.percentile(train_df[\"city\"].value_counts(), q=city_percentile)\n",
    "print(city_threshold)\n",
    "(train_df[\"city\"].value_counts() >= city_threshold).sum()"
   ]
  },
  {
   "cell_type": "code",
   "execution_count": 15,
   "metadata": {},
   "outputs": [
    {
     "data": {
      "text/html": [
       "<pre style=\"white-space:pre;overflow-x:auto;line-height:normal;font-family:Menlo,'DejaVu Sans Mono',consolas,'Courier New',monospace\"></pre>\n"
      ],
      "text/plain": []
     },
     "metadata": {},
     "output_type": "display_data"
    },
    {
     "data": {
      "text/plain": [
       "\n",
       "\u001b[1m[\u001b[0m\n",
       "    \u001b[32m'Birmingham'\u001b[0m,\n",
       "    \u001b[32m'San Antonio'\u001b[0m,\n",
       "    \u001b[32m'Utica'\u001b[0m,\n",
       "    \u001b[32m'Phoenix'\u001b[0m,\n",
       "    \u001b[32m'Meridian'\u001b[0m,\n",
       "    \u001b[32m'Thomas'\u001b[0m,\n",
       "    \u001b[32m'Conway'\u001b[0m,\n",
       "    \u001b[32m'Cleveland'\u001b[0m,\n",
       "    \u001b[32m'Warren'\u001b[0m\n",
       "\u001b[1m]\u001b[0m"
      ]
     },
     "execution_count": 15,
     "metadata": {},
     "output_type": "execute_result"
    }
   ],
   "source": [
    "cities = (\n",
    "    train_df[\"city\"]\n",
    "    .value_counts()[train_df[\"city\"].value_counts() >= city_threshold]\n",
    "    .index.tolist()\n",
    ")\n",
    "cities"
   ]
  },
  {
   "cell_type": "code",
   "execution_count": 16,
   "metadata": {},
   "outputs": [
    {
     "data": {
      "text/html": [
       "<pre style=\"white-space:pre;overflow-x:auto;line-height:normal;font-family:Menlo,'DejaVu Sans Mono',consolas,'Courier New',monospace\"><span style=\"color: #7fbfbf; text-decoration-color: #7fbfbf\">[04/03/24 10:59:07] </span><span style=\"color: #000080; text-decoration-color: #000080\">INFO    </span> Loading data from <span style=\"color: #ff8700; text-decoration-color: #ff8700\">params:top_categories.cities</span> <span style=\"font-weight: bold\">(</span>MemoryDataset<span style=\"font-weight: bold\">)</span><span style=\"color: #808000; text-decoration-color: #808000\">...</span>  <a href=\"file:///opt/anaconda3/envs/kedro-session/lib/python3.10/site-packages/kedro/io/data_catalog.py\" target=\"_blank\"><span style=\"color: #7f7f7f; text-decoration-color: #7f7f7f\">data_catalog.py</span></a><span style=\"color: #7f7f7f; text-decoration-color: #7f7f7f\">:</span><a href=\"file:///opt/anaconda3/envs/kedro-session/lib/python3.10/site-packages/kedro/io/data_catalog.py#483\" target=\"_blank\"><span style=\"color: #7f7f7f; text-decoration-color: #7f7f7f\">483</span></a>\n",
       "</pre>\n"
      ],
      "text/plain": [
       "\u001b[2;36m[04/03/24 10:59:07]\u001b[0m\u001b[2;36m \u001b[0m\u001b[34mINFO    \u001b[0m Loading data from \u001b[38;5;208mparams:top_categories.cities\u001b[0m \u001b[1m(\u001b[0mMemoryDataset\u001b[1m)\u001b[0m\u001b[33m...\u001b[0m  \u001b]8;id=670374;file:///opt/anaconda3/envs/kedro-session/lib/python3.10/site-packages/kedro/io/data_catalog.py\u001b\\\u001b[2mdata_catalog.py\u001b[0m\u001b]8;;\u001b\\\u001b[2m:\u001b[0m\u001b]8;id=11418;file:///opt/anaconda3/envs/kedro-session/lib/python3.10/site-packages/kedro/io/data_catalog.py#483\u001b\\\u001b[2m483\u001b[0m\u001b]8;;\u001b\\\n"
      ]
     },
     "metadata": {},
     "output_type": "display_data"
    }
   ],
   "source": [
    "top_cities = catalog.load(\"params:top_categories.cities\")\n",
    "\n",
    "assert cities == top_cities"
   ]
  },
  {
   "cell_type": "markdown",
   "metadata": {},
   "source": [
    "### Update `city` column in combined raw data"
   ]
  },
  {
   "cell_type": "code",
   "execution_count": 17,
   "metadata": {},
   "outputs": [
    {
     "data": {
      "text/html": [
       "<pre style=\"white-space:pre;overflow-x:auto;line-height:normal;font-family:Menlo,'DejaVu Sans Mono',consolas,'Courier New',monospace\"></pre>\n"
      ],
      "text/plain": []
     },
     "metadata": {},
     "output_type": "display_data"
    },
    {
     "data": {
      "text/plain": [
       "\n",
       "city\n",
       "Other          \u001b[1;36m1788846\u001b[0m\n",
       "Birmingham        \u001b[1;36m8040\u001b[0m\n",
       "San Antonio       \u001b[1;36m7312\u001b[0m\n",
       "Utica             \u001b[1;36m7309\u001b[0m\n",
       "Phoenix           \u001b[1;36m7297\u001b[0m\n",
       "Meridian          \u001b[1;36m7289\u001b[0m\n",
       "Warren            \u001b[1;36m6584\u001b[0m\n",
       "Conway            \u001b[1;36m6574\u001b[0m\n",
       "Cleveland         \u001b[1;36m6572\u001b[0m\n",
       "Thomas            \u001b[1;36m6571\u001b[0m\n",
       "Name: count, dtype: int64"
      ]
     },
     "execution_count": 17,
     "metadata": {},
     "output_type": "execute_result"
    }
   ],
   "source": [
    "raw_df[\"city\"] = raw_df[\"city\"].apply(lambda x: \"Other\" if x not in cities else x)\n",
    "raw_df[\"city\"].value_counts()"
   ]
  },
  {
   "cell_type": "markdown",
   "metadata": {},
   "source": [
    "### `state`"
   ]
  },
  {
   "cell_type": "code",
   "execution_count": 18,
   "metadata": {},
   "outputs": [],
   "source": [
    "state_percentile = 80"
   ]
  },
  {
   "cell_type": "code",
   "execution_count": 19,
   "metadata": {},
   "outputs": [
    {
     "data": {
      "text/html": [
       "<pre style=\"white-space:pre;overflow-x:auto;line-height:normal;font-family:Menlo,'DejaVu Sans Mono',consolas,'Courier New',monospace\"></pre>\n"
      ],
      "text/plain": []
     },
     "metadata": {},
     "output_type": "display_data"
    },
    {
     "data": {
      "text/plain": [
       "\u001b[1;36m51\u001b[0m"
      ]
     },
     "execution_count": 19,
     "metadata": {},
     "output_type": "execute_result"
    }
   ],
   "source": [
    "train_df[\"state\"].nunique()"
   ]
  },
  {
   "cell_type": "code",
   "execution_count": 20,
   "metadata": {},
   "outputs": [
    {
     "name": "stdout",
     "output_type": "stream",
     "text": [
      "31714.0\n"
     ]
    },
    {
     "data": {
      "text/html": [
       "<pre style=\"white-space:pre;overflow-x:auto;line-height:normal;font-family:Menlo,'DejaVu Sans Mono',consolas,'Courier New',monospace\"></pre>\n"
      ],
      "text/plain": []
     },
     "metadata": {},
     "output_type": "display_data"
    },
    {
     "data": {
      "text/plain": [
       "\u001b[1;36m11\u001b[0m"
      ]
     },
     "execution_count": 20,
     "metadata": {},
     "output_type": "execute_result"
    }
   ],
   "source": [
    "state_threshold = np.percentile(train_df[\"state\"].value_counts(), q=state_percentile)\n",
    "print(state_threshold)\n",
    "(train_df[\"state\"].value_counts() >= state_threshold).sum()"
   ]
  },
  {
   "cell_type": "code",
   "execution_count": 21,
   "metadata": {},
   "outputs": [
    {
     "data": {
      "text/html": [
       "<pre style=\"white-space:pre;overflow-x:auto;line-height:normal;font-family:Menlo,'DejaVu Sans Mono',consolas,'Courier New',monospace\"></pre>\n"
      ],
      "text/plain": []
     },
     "metadata": {},
     "output_type": "display_data"
    },
    {
     "data": {
      "text/plain": [
       "\u001b[1m[\u001b[0m\u001b[32m'TX'\u001b[0m, \u001b[32m'NY'\u001b[0m, \u001b[32m'PA'\u001b[0m, \u001b[32m'CA'\u001b[0m, \u001b[32m'OH'\u001b[0m, \u001b[32m'MI'\u001b[0m, \u001b[32m'IL'\u001b[0m, \u001b[32m'FL'\u001b[0m, \u001b[32m'AL'\u001b[0m, \u001b[32m'MO'\u001b[0m, \u001b[32m'MN'\u001b[0m\u001b[1m]\u001b[0m"
      ]
     },
     "execution_count": 21,
     "metadata": {},
     "output_type": "execute_result"
    }
   ],
   "source": [
    "states = (\n",
    "    train_df[\"state\"]\n",
    "    .value_counts()[train_df[\"state\"].value_counts() >= state_threshold]\n",
    "    .index.tolist()\n",
    ")\n",
    "states"
   ]
  },
  {
   "cell_type": "code",
   "execution_count": 22,
   "metadata": {},
   "outputs": [
    {
     "data": {
      "text/html": [
       "<pre style=\"white-space:pre;overflow-x:auto;line-height:normal;font-family:Menlo,'DejaVu Sans Mono',consolas,'Courier New',monospace\"><span style=\"color: #7fbfbf; text-decoration-color: #7fbfbf\">[04/03/24 10:59:08] </span><span style=\"color: #000080; text-decoration-color: #000080\">INFO    </span> Loading data from <span style=\"color: #ff8700; text-decoration-color: #ff8700\">params:top_categories.states</span> <span style=\"font-weight: bold\">(</span>MemoryDataset<span style=\"font-weight: bold\">)</span><span style=\"color: #808000; text-decoration-color: #808000\">...</span>  <a href=\"file:///opt/anaconda3/envs/kedro-session/lib/python3.10/site-packages/kedro/io/data_catalog.py\" target=\"_blank\"><span style=\"color: #7f7f7f; text-decoration-color: #7f7f7f\">data_catalog.py</span></a><span style=\"color: #7f7f7f; text-decoration-color: #7f7f7f\">:</span><a href=\"file:///opt/anaconda3/envs/kedro-session/lib/python3.10/site-packages/kedro/io/data_catalog.py#483\" target=\"_blank\"><span style=\"color: #7f7f7f; text-decoration-color: #7f7f7f\">483</span></a>\n",
       "</pre>\n"
      ],
      "text/plain": [
       "\u001b[2;36m[04/03/24 10:59:08]\u001b[0m\u001b[2;36m \u001b[0m\u001b[34mINFO    \u001b[0m Loading data from \u001b[38;5;208mparams:top_categories.states\u001b[0m \u001b[1m(\u001b[0mMemoryDataset\u001b[1m)\u001b[0m\u001b[33m...\u001b[0m  \u001b]8;id=967215;file:///opt/anaconda3/envs/kedro-session/lib/python3.10/site-packages/kedro/io/data_catalog.py\u001b\\\u001b[2mdata_catalog.py\u001b[0m\u001b]8;;\u001b\\\u001b[2m:\u001b[0m\u001b]8;id=714765;file:///opt/anaconda3/envs/kedro-session/lib/python3.10/site-packages/kedro/io/data_catalog.py#483\u001b\\\u001b[2m483\u001b[0m\u001b]8;;\u001b\\\n"
      ]
     },
     "metadata": {},
     "output_type": "display_data"
    }
   ],
   "source": [
    "top_states = catalog.load(\"params:top_categories.states\")\n",
    "\n",
    "assert states == top_states"
   ]
  },
  {
   "cell_type": "markdown",
   "metadata": {},
   "source": [
    "### Update `state` column in combined raw data"
   ]
  },
  {
   "cell_type": "code",
   "execution_count": 23,
   "metadata": {},
   "outputs": [
    {
     "data": {
      "text/html": [
       "<pre style=\"white-space:pre;overflow-x:auto;line-height:normal;font-family:Menlo,'DejaVu Sans Mono',consolas,'Courier New',monospace\"></pre>\n"
      ],
      "text/plain": []
     },
     "metadata": {},
     "output_type": "display_data"
    },
    {
     "data": {
      "text/plain": [
       "\n",
       "state\n",
       "Other    \u001b[1;36m988741\u001b[0m\n",
       "TX       \u001b[1;36m135269\u001b[0m\n",
       "NY       \u001b[1;36m119419\u001b[0m\n",
       "PA       \u001b[1;36m114173\u001b[0m\n",
       "CA        \u001b[1;36m80495\u001b[0m\n",
       "OH        \u001b[1;36m66627\u001b[0m\n",
       "MI        \u001b[1;36m65825\u001b[0m\n",
       "IL        \u001b[1;36m62212\u001b[0m\n",
       "FL        \u001b[1;36m60775\u001b[0m\n",
       "AL        \u001b[1;36m58521\u001b[0m\n",
       "MO        \u001b[1;36m54904\u001b[0m\n",
       "MN        \u001b[1;36m45433\u001b[0m\n",
       "Name: count, dtype: int64"
      ]
     },
     "execution_count": 23,
     "metadata": {},
     "output_type": "execute_result"
    }
   ],
   "source": [
    "raw_df[\"state\"] = raw_df[\"state\"].apply(lambda x: \"Other\" if x not in states else x)\n",
    "raw_df[\"state\"].value_counts()"
   ]
  },
  {
   "cell_type": "markdown",
   "metadata": {},
   "source": [
    "## Undersampling + Split Data into Train and Validation"
   ]
  },
  {
   "cell_type": "code",
   "execution_count": 24,
   "metadata": {},
   "outputs": [
    {
     "name": "stdout",
     "output_type": "stream",
     "text": [
      "Train shape: (1296675, 8)\n",
      "Test shape: (555719, 8)\n"
     ]
    }
   ],
   "source": [
    "raw_df = raw_df.drop([\"trans_date_trans_time\", \"dob\"], axis=1)\n",
    "\n",
    "train_df = (\n",
    "    raw_df[raw_df[\"dataset\"] == \"train\"].drop(\"dataset\", axis=1).reset_index(drop=True)\n",
    ")\n",
    "test_df = (\n",
    "    raw_df[raw_df[\"dataset\"] == \"test\"].drop(\"dataset\", axis=1).reset_index(drop=True)\n",
    ")\n",
    "\n",
    "print(f\"Train shape: {train_df.shape}\")\n",
    "print(f\"Test shape: {test_df.shape}\")"
   ]
  },
  {
   "cell_type": "code",
   "execution_count": 25,
   "metadata": {},
   "outputs": [
    {
     "data": {
      "text/html": [
       "<pre style=\"white-space:pre;overflow-x:auto;line-height:normal;font-family:Menlo,'DejaVu Sans Mono',consolas,'Courier New',monospace\"></pre>\n"
      ],
      "text/plain": []
     },
     "metadata": {},
     "output_type": "display_data"
    },
    {
     "data": {
      "text/plain": [
       "\n",
       "is_fraud\n",
       "\u001b[1;36m0\u001b[0m    \u001b[1;36m0.994211\u001b[0m\n",
       "\u001b[1;36m1\u001b[0m    \u001b[1;36m0.005789\u001b[0m\n",
       "Name: proportion, dtype: float64"
      ]
     },
     "execution_count": 25,
     "metadata": {},
     "output_type": "execute_result"
    }
   ],
   "source": [
    "train_df[\"is_fraud\"].value_counts(normalize=True)"
   ]
  },
  {
   "cell_type": "code",
   "execution_count": 26,
   "metadata": {},
   "outputs": [
    {
     "data": {
      "text/html": [
       "<pre style=\"white-space:pre;overflow-x:auto;line-height:normal;font-family:Menlo,'DejaVu Sans Mono',consolas,'Courier New',monospace\"><span style=\"color: #7fbfbf; text-decoration-color: #7fbfbf\">[04/03/24 10:59:11] </span><span style=\"color: #000080; text-decoration-color: #000080\">INFO    </span> Loading data from <span style=\"color: #ff8700; text-decoration-color: #ff8700\">params:target_col</span> <span style=\"font-weight: bold\">(</span>MemoryDataset<span style=\"font-weight: bold\">)</span><span style=\"color: #808000; text-decoration-color: #808000\">...</span>             <a href=\"file:///opt/anaconda3/envs/kedro-session/lib/python3.10/site-packages/kedro/io/data_catalog.py\" target=\"_blank\"><span style=\"color: #7f7f7f; text-decoration-color: #7f7f7f\">data_catalog.py</span></a><span style=\"color: #7f7f7f; text-decoration-color: #7f7f7f\">:</span><a href=\"file:///opt/anaconda3/envs/kedro-session/lib/python3.10/site-packages/kedro/io/data_catalog.py#483\" target=\"_blank\"><span style=\"color: #7f7f7f; text-decoration-color: #7f7f7f\">483</span></a>\n",
       "</pre>\n"
      ],
      "text/plain": [
       "\u001b[2;36m[04/03/24 10:59:11]\u001b[0m\u001b[2;36m \u001b[0m\u001b[34mINFO    \u001b[0m Loading data from \u001b[38;5;208mparams:target_col\u001b[0m \u001b[1m(\u001b[0mMemoryDataset\u001b[1m)\u001b[0m\u001b[33m...\u001b[0m             \u001b]8;id=374800;file:///opt/anaconda3/envs/kedro-session/lib/python3.10/site-packages/kedro/io/data_catalog.py\u001b\\\u001b[2mdata_catalog.py\u001b[0m\u001b]8;;\u001b\\\u001b[2m:\u001b[0m\u001b]8;id=221751;file:///opt/anaconda3/envs/kedro-session/lib/python3.10/site-packages/kedro/io/data_catalog.py#483\u001b\\\u001b[2m483\u001b[0m\u001b]8;;\u001b\\\n"
      ]
     },
     "metadata": {},
     "output_type": "display_data"
    }
   ],
   "source": [
    "target_col = catalog.load(\"params:target_col\")\n",
    "\n",
    "X = train_df.drop(target_col, axis=1)\n",
    "y = train_df[target_col]"
   ]
  },
  {
   "cell_type": "code",
   "execution_count": 27,
   "metadata": {},
   "outputs": [
    {
     "data": {
      "text/html": [
       "<pre style=\"white-space:pre;overflow-x:auto;line-height:normal;font-family:Menlo,'DejaVu Sans Mono',consolas,'Courier New',monospace\"><span style=\"color: #7fbfbf; text-decoration-color: #7fbfbf\">                    </span><span style=\"color: #000080; text-decoration-color: #000080\">INFO    </span> Loading data from <span style=\"color: #ff8700; text-decoration-color: #ff8700\">params:undersampling</span> <span style=\"font-weight: bold\">(</span>MemoryDataset<span style=\"font-weight: bold\">)</span><span style=\"color: #808000; text-decoration-color: #808000\">...</span>          <a href=\"file:///opt/anaconda3/envs/kedro-session/lib/python3.10/site-packages/kedro/io/data_catalog.py\" target=\"_blank\"><span style=\"color: #7f7f7f; text-decoration-color: #7f7f7f\">data_catalog.py</span></a><span style=\"color: #7f7f7f; text-decoration-color: #7f7f7f\">:</span><a href=\"file:///opt/anaconda3/envs/kedro-session/lib/python3.10/site-packages/kedro/io/data_catalog.py#483\" target=\"_blank\"><span style=\"color: #7f7f7f; text-decoration-color: #7f7f7f\">483</span></a>\n",
       "</pre>\n"
      ],
      "text/plain": [
       "\u001b[2;36m                   \u001b[0m\u001b[2;36m \u001b[0m\u001b[34mINFO    \u001b[0m Loading data from \u001b[38;5;208mparams:undersampling\u001b[0m \u001b[1m(\u001b[0mMemoryDataset\u001b[1m)\u001b[0m\u001b[33m...\u001b[0m          \u001b]8;id=937892;file:///opt/anaconda3/envs/kedro-session/lib/python3.10/site-packages/kedro/io/data_catalog.py\u001b\\\u001b[2mdata_catalog.py\u001b[0m\u001b]8;;\u001b\\\u001b[2m:\u001b[0m\u001b]8;id=244647;file:///opt/anaconda3/envs/kedro-session/lib/python3.10/site-packages/kedro/io/data_catalog.py#483\u001b\\\u001b[2m483\u001b[0m\u001b]8;;\u001b\\\n"
      ]
     },
     "metadata": {},
     "output_type": "display_data"
    },
    {
     "name": "stdout",
     "output_type": "stream",
     "text": [
      "Total number of fraud samples: 7000\n"
     ]
    }
   ],
   "source": [
    "# Calculate the desired number of fraud cases based on the desired proportion\n",
    "undersampling_params = catalog.load(\"params:undersampling\")\n",
    "desired_proportion = undersampling_params[\"desired_proportion\"]\n",
    "total_samples = undersampling_params[\"total_samples\"]\n",
    "\n",
    "fraud_samples = int(total_samples * desired_proportion)\n",
    "print(f\"Total number of fraud samples: {fraud_samples}\")"
   ]
  },
  {
   "cell_type": "code",
   "execution_count": 28,
   "metadata": {},
   "outputs": [
    {
     "data": {
      "text/html": [
       "<pre style=\"white-space:pre;overflow-x:auto;line-height:normal;font-family:Menlo,'DejaVu Sans Mono',consolas,'Courier New',monospace\"><span style=\"color: #7fbfbf; text-decoration-color: #7fbfbf\">                    </span><span style=\"color: #000080; text-decoration-color: #000080\">INFO    </span> Loading data from <span style=\"color: #ff8700; text-decoration-color: #ff8700\">parameters</span> <span style=\"font-weight: bold\">(</span>MemoryDataset<span style=\"font-weight: bold\">)</span><span style=\"color: #808000; text-decoration-color: #808000\">...</span>                    <a href=\"file:///opt/anaconda3/envs/kedro-session/lib/python3.10/site-packages/kedro/io/data_catalog.py\" target=\"_blank\"><span style=\"color: #7f7f7f; text-decoration-color: #7f7f7f\">data_catalog.py</span></a><span style=\"color: #7f7f7f; text-decoration-color: #7f7f7f\">:</span><a href=\"file:///opt/anaconda3/envs/kedro-session/lib/python3.10/site-packages/kedro/io/data_catalog.py#483\" target=\"_blank\"><span style=\"color: #7f7f7f; text-decoration-color: #7f7f7f\">483</span></a>\n",
       "</pre>\n"
      ],
      "text/plain": [
       "\u001b[2;36m                   \u001b[0m\u001b[2;36m \u001b[0m\u001b[34mINFO    \u001b[0m Loading data from \u001b[38;5;208mparameters\u001b[0m \u001b[1m(\u001b[0mMemoryDataset\u001b[1m)\u001b[0m\u001b[33m...\u001b[0m                    \u001b]8;id=56419;file:///opt/anaconda3/envs/kedro-session/lib/python3.10/site-packages/kedro/io/data_catalog.py\u001b\\\u001b[2mdata_catalog.py\u001b[0m\u001b]8;;\u001b\\\u001b[2m:\u001b[0m\u001b]8;id=165955;file:///opt/anaconda3/envs/kedro-session/lib/python3.10/site-packages/kedro/io/data_catalog.py#483\u001b\\\u001b[2m483\u001b[0m\u001b]8;;\u001b\\\n"
      ]
     },
     "metadata": {},
     "output_type": "display_data"
    },
    {
     "name": "stdout",
     "output_type": "stream",
     "text": [
      "X_resampled.shape: (35000, 7)\n",
      "y_resampled.shape: (35000,)\n"
     ]
    }
   ],
   "source": [
    "parameters = catalog.load(\"parameters\")\n",
    "random_state = parameters[\"random_state\"]\n",
    "\n",
    "\n",
    "# Create RandomUnderSampler with the desired sampling strategy\n",
    "rus = RandomUnderSampler(sampling_strategy={0: total_samples - fraud_samples, 1: fraud_samples}, random_state=random_state)\n",
    "\n",
    "# Apply random undersampling to the original dataset\n",
    "X_resampled, y_resampled = rus.fit_resample(X, y)\n",
    "\n",
    "print(f\"X_resampled.shape: {X_resampled.shape}\")\n",
    "print(f\"y_resampled.shape: {y_resampled.shape}\")"
   ]
  },
  {
   "cell_type": "code",
   "execution_count": 29,
   "metadata": {},
   "outputs": [
    {
     "data": {
      "text/html": [
       "<pre style=\"white-space:pre;overflow-x:auto;line-height:normal;font-family:Menlo,'DejaVu Sans Mono',consolas,'Courier New',monospace\"><span style=\"color: #7fbfbf; text-decoration-color: #7fbfbf\">[04/03/24 10:59:12] </span><span style=\"color: #000080; text-decoration-color: #000080\">INFO    </span> Loading data from <span style=\"color: #ff8700; text-decoration-color: #ff8700\">params:test_size</span> <span style=\"font-weight: bold\">(</span>MemoryDataset<span style=\"font-weight: bold\">)</span><span style=\"color: #808000; text-decoration-color: #808000\">...</span>              <a href=\"file:///opt/anaconda3/envs/kedro-session/lib/python3.10/site-packages/kedro/io/data_catalog.py\" target=\"_blank\"><span style=\"color: #7f7f7f; text-decoration-color: #7f7f7f\">data_catalog.py</span></a><span style=\"color: #7f7f7f; text-decoration-color: #7f7f7f\">:</span><a href=\"file:///opt/anaconda3/envs/kedro-session/lib/python3.10/site-packages/kedro/io/data_catalog.py#483\" target=\"_blank\"><span style=\"color: #7f7f7f; text-decoration-color: #7f7f7f\">483</span></a>\n",
       "</pre>\n"
      ],
      "text/plain": [
       "\u001b[2;36m[04/03/24 10:59:12]\u001b[0m\u001b[2;36m \u001b[0m\u001b[34mINFO    \u001b[0m Loading data from \u001b[38;5;208mparams:test_size\u001b[0m \u001b[1m(\u001b[0mMemoryDataset\u001b[1m)\u001b[0m\u001b[33m...\u001b[0m              \u001b]8;id=241469;file:///opt/anaconda3/envs/kedro-session/lib/python3.10/site-packages/kedro/io/data_catalog.py\u001b\\\u001b[2mdata_catalog.py\u001b[0m\u001b]8;;\u001b\\\u001b[2m:\u001b[0m\u001b]8;id=917194;file:///opt/anaconda3/envs/kedro-session/lib/python3.10/site-packages/kedro/io/data_catalog.py#483\u001b\\\u001b[2m483\u001b[0m\u001b]8;;\u001b\\\n"
      ]
     },
     "metadata": {},
     "output_type": "display_data"
    },
    {
     "name": "stdout",
     "output_type": "stream",
     "text": [
      "0.2\n",
      "X_train.shape: (28000, 7)\n",
      "X_val.shape: (7000, 7)\n",
      "y_train.shape: (28000,)\n",
      "y_val.shape: (7000,)\n"
     ]
    }
   ],
   "source": [
    "test_size = catalog.load(\"params:test_size\")\n",
    "print(test_size)\n",
    "\n",
    "X_train, X_val, y_train, y_val = train_test_split(\n",
    "    X_resampled, y_resampled, stratify=y_resampled, test_size=test_size\n",
    ")\n",
    "\n",
    "print(f\"X_train.shape: {X_train.shape}\")\n",
    "print(f\"X_val.shape: {X_val.shape}\")\n",
    "print(f\"y_train.shape: {y_train.shape}\")\n",
    "print(f\"y_val.shape: {y_val.shape}\")"
   ]
  },
  {
   "cell_type": "code",
   "execution_count": 30,
   "metadata": {},
   "outputs": [],
   "source": [
    "X_train[\"is_fraud\"] = y_train\n",
    "X_val[\"is_fraud\"] = y_val"
   ]
  },
  {
   "cell_type": "code",
   "execution_count": 31,
   "metadata": {},
   "outputs": [
    {
     "data": {
      "text/html": [
       "<pre style=\"white-space:pre;overflow-x:auto;line-height:normal;font-family:Menlo,'DejaVu Sans Mono',consolas,'Courier New',monospace\"></pre>\n"
      ],
      "text/plain": []
     },
     "metadata": {},
     "output_type": "display_data"
    },
    {
     "data": {
      "text/plain": [
       "\n",
       "is_fraud\n",
       "\u001b[1;36m0\u001b[0m    \u001b[1;36m0.8\u001b[0m\n",
       "\u001b[1;36m1\u001b[0m    \u001b[1;36m0.2\u001b[0m\n",
       "Name: proportion, dtype: float64"
      ]
     },
     "execution_count": 31,
     "metadata": {},
     "output_type": "execute_result"
    }
   ],
   "source": [
    "X_train[\"is_fraud\"].value_counts(normalize=True)"
   ]
  },
  {
   "cell_type": "code",
   "execution_count": 32,
   "metadata": {},
   "outputs": [
    {
     "data": {
      "text/html": [
       "<pre style=\"white-space:pre;overflow-x:auto;line-height:normal;font-family:Menlo,'DejaVu Sans Mono',consolas,'Courier New',monospace\"></pre>\n"
      ],
      "text/plain": []
     },
     "metadata": {},
     "output_type": "display_data"
    },
    {
     "data": {
      "text/plain": [
       "\n",
       "is_fraud\n",
       "\u001b[1;36m0\u001b[0m    \u001b[1;36m0.8\u001b[0m\n",
       "\u001b[1;36m1\u001b[0m    \u001b[1;36m0.2\u001b[0m\n",
       "Name: proportion, dtype: float64"
      ]
     },
     "execution_count": 32,
     "metadata": {},
     "output_type": "execute_result"
    }
   ],
   "source": [
    "X_val[\"is_fraud\"].value_counts(normalize=True)"
   ]
  },
  {
   "cell_type": "markdown",
   "metadata": {},
   "source": [
    "## Scale and Transform"
   ]
  },
  {
   "cell_type": "markdown",
   "metadata": {},
   "source": [
    "### Numeric Features"
   ]
  },
  {
   "cell_type": "code",
   "execution_count": 33,
   "metadata": {},
   "outputs": [
    {
     "data": {
      "text/html": [
       "<pre style=\"white-space:pre;overflow-x:auto;line-height:normal;font-family:Menlo,'DejaVu Sans Mono',consolas,'Courier New',monospace\"><span style=\"color: #7fbfbf; text-decoration-color: #7fbfbf\">                    </span><span style=\"color: #000080; text-decoration-color: #000080\">INFO    </span> Loading data from <span style=\"color: #ff8700; text-decoration-color: #ff8700\">params:preprocess_features.numeric_features</span>      <a href=\"file:///opt/anaconda3/envs/kedro-session/lib/python3.10/site-packages/kedro/io/data_catalog.py\" target=\"_blank\"><span style=\"color: #7f7f7f; text-decoration-color: #7f7f7f\">data_catalog.py</span></a><span style=\"color: #7f7f7f; text-decoration-color: #7f7f7f\">:</span><a href=\"file:///opt/anaconda3/envs/kedro-session/lib/python3.10/site-packages/kedro/io/data_catalog.py#483\" target=\"_blank\"><span style=\"color: #7f7f7f; text-decoration-color: #7f7f7f\">483</span></a>\n",
       "<span style=\"color: #7fbfbf; text-decoration-color: #7fbfbf\">                    </span>         <span style=\"font-weight: bold\">(</span>MemoryDataset<span style=\"font-weight: bold\">)</span><span style=\"color: #808000; text-decoration-color: #808000\">...</span>                                                 <span style=\"color: #7f7f7f; text-decoration-color: #7f7f7f\">                   </span>\n",
       "</pre>\n"
      ],
      "text/plain": [
       "\u001b[2;36m                   \u001b[0m\u001b[2;36m \u001b[0m\u001b[34mINFO    \u001b[0m Loading data from \u001b[38;5;208mparams:preprocess_features.numeric_features\u001b[0m      \u001b]8;id=537935;file:///opt/anaconda3/envs/kedro-session/lib/python3.10/site-packages/kedro/io/data_catalog.py\u001b\\\u001b[2mdata_catalog.py\u001b[0m\u001b]8;;\u001b\\\u001b[2m:\u001b[0m\u001b]8;id=677952;file:///opt/anaconda3/envs/kedro-session/lib/python3.10/site-packages/kedro/io/data_catalog.py#483\u001b\\\u001b[2m483\u001b[0m\u001b]8;;\u001b\\\n",
       "\u001b[2;36m                    \u001b[0m         \u001b[1m(\u001b[0mMemoryDataset\u001b[1m)\u001b[0m\u001b[33m...\u001b[0m                                                 \u001b[2m                   \u001b[0m\n"
      ]
     },
     "metadata": {},
     "output_type": "display_data"
    },
    {
     "data": {
      "text/html": [
       "<pre style=\"white-space:pre;overflow-x:auto;line-height:normal;font-family:Menlo,'DejaVu Sans Mono',consolas,'Courier New',monospace\"></pre>\n"
      ],
      "text/plain": []
     },
     "metadata": {},
     "output_type": "display_data"
    },
    {
     "data": {
      "text/plain": [
       "\u001b[1m{\u001b[0m\u001b[32m'standard'\u001b[0m: \u001b[1m[\u001b[0m\u001b[32m'amt'\u001b[0m\u001b[1m]\u001b[0m, \u001b[32m'minmax'\u001b[0m: \u001b[1m[\u001b[0m\u001b[32m'age'\u001b[0m, \u001b[32m'hour'\u001b[0m, \u001b[32m'dayofweek'\u001b[0m\u001b[1m]\u001b[0m\u001b[1m}\u001b[0m"
      ]
     },
     "execution_count": 33,
     "metadata": {},
     "output_type": "execute_result"
    }
   ],
   "source": [
    "numeric_features = catalog.load(\"params:preprocess_features.numeric_features\")\n",
    "numeric_features"
   ]
  },
  {
   "cell_type": "code",
   "execution_count": 34,
   "metadata": {},
   "outputs": [],
   "source": [
    "standard_features = numeric_features[\"standard\"]\n",
    "minmax_features = numeric_features[\"minmax\"]"
   ]
  },
  {
   "cell_type": "code",
   "execution_count": 35,
   "metadata": {},
   "outputs": [],
   "source": [
    "standard_transformer = Pipeline(steps=[(\"scaler\", StandardScaler())], verbose=True)\n",
    "minmax_transformer = Pipeline(steps=[(\"minmax\", MinMaxScaler())], verbose=True)"
   ]
  },
  {
   "cell_type": "markdown",
   "metadata": {},
   "source": [
    "### Categorical Features"
   ]
  },
  {
   "cell_type": "code",
   "execution_count": 36,
   "metadata": {},
   "outputs": [
    {
     "data": {
      "text/html": [
       "<pre style=\"white-space:pre;overflow-x:auto;line-height:normal;font-family:Menlo,'DejaVu Sans Mono',consolas,'Courier New',monospace\"><span style=\"color: #7fbfbf; text-decoration-color: #7fbfbf\">                    </span><span style=\"color: #000080; text-decoration-color: #000080\">INFO    </span> Loading data from <span style=\"color: #ff8700; text-decoration-color: #ff8700\">params:preprocess_features.categorical_features</span>  <a href=\"file:///opt/anaconda3/envs/kedro-session/lib/python3.10/site-packages/kedro/io/data_catalog.py\" target=\"_blank\"><span style=\"color: #7f7f7f; text-decoration-color: #7f7f7f\">data_catalog.py</span></a><span style=\"color: #7f7f7f; text-decoration-color: #7f7f7f\">:</span><a href=\"file:///opt/anaconda3/envs/kedro-session/lib/python3.10/site-packages/kedro/io/data_catalog.py#483\" target=\"_blank\"><span style=\"color: #7f7f7f; text-decoration-color: #7f7f7f\">483</span></a>\n",
       "<span style=\"color: #7fbfbf; text-decoration-color: #7fbfbf\">                    </span>         <span style=\"font-weight: bold\">(</span>MemoryDataset<span style=\"font-weight: bold\">)</span><span style=\"color: #808000; text-decoration-color: #808000\">...</span>                                                 <span style=\"color: #7f7f7f; text-decoration-color: #7f7f7f\">                   </span>\n",
       "</pre>\n"
      ],
      "text/plain": [
       "\u001b[2;36m                   \u001b[0m\u001b[2;36m \u001b[0m\u001b[34mINFO    \u001b[0m Loading data from \u001b[38;5;208mparams:preprocess_features.categorical_features\u001b[0m  \u001b]8;id=226398;file:///opt/anaconda3/envs/kedro-session/lib/python3.10/site-packages/kedro/io/data_catalog.py\u001b\\\u001b[2mdata_catalog.py\u001b[0m\u001b]8;;\u001b\\\u001b[2m:\u001b[0m\u001b]8;id=988971;file:///opt/anaconda3/envs/kedro-session/lib/python3.10/site-packages/kedro/io/data_catalog.py#483\u001b\\\u001b[2m483\u001b[0m\u001b]8;;\u001b\\\n",
       "\u001b[2;36m                    \u001b[0m         \u001b[1m(\u001b[0mMemoryDataset\u001b[1m)\u001b[0m\u001b[33m...\u001b[0m                                                 \u001b[2m                   \u001b[0m\n"
      ]
     },
     "metadata": {},
     "output_type": "display_data"
    },
    {
     "data": {
      "text/html": [
       "<pre style=\"white-space:pre;overflow-x:auto;line-height:normal;font-family:Menlo,'DejaVu Sans Mono',consolas,'Courier New',monospace\"></pre>\n"
      ],
      "text/plain": []
     },
     "metadata": {},
     "output_type": "display_data"
    },
    {
     "data": {
      "text/plain": [
       "\u001b[1m{\u001b[0m\u001b[32m'onehot'\u001b[0m: \u001b[1m[\u001b[0m\u001b[32m'category'\u001b[0m, \u001b[32m'city'\u001b[0m, \u001b[32m'state'\u001b[0m\u001b[1m]\u001b[0m\u001b[1m}\u001b[0m"
      ]
     },
     "execution_count": 36,
     "metadata": {},
     "output_type": "execute_result"
    }
   ],
   "source": [
    "categorical_features = catalog.load(\"params:preprocess_features.categorical_features\")\n",
    "categorical_features"
   ]
  },
  {
   "cell_type": "code",
   "execution_count": 37,
   "metadata": {},
   "outputs": [],
   "source": [
    "onehot_features = categorical_features[\"onehot\"]"
   ]
  },
  {
   "cell_type": "code",
   "execution_count": 38,
   "metadata": {},
   "outputs": [],
   "source": [
    "onehot_transformer = Pipeline(steps=[(\"onehot\", OneHotEncoder(sparse_output=False,handle_unknown=\"ignore\"))], verbose=True)"
   ]
  },
  {
   "cell_type": "code",
   "execution_count": 39,
   "metadata": {},
   "outputs": [],
   "source": [
    "X_train, y_train = X_train.drop(target_col, axis=1), X_train[target_col]\n",
    "X_val, y_val = X_val.drop(target_col, axis=1), X_val[target_col]"
   ]
  },
  {
   "cell_type": "code",
   "execution_count": 40,
   "metadata": {},
   "outputs": [
    {
     "data": {
      "text/html": [
       "<pre style=\"white-space:pre;overflow-x:auto;line-height:normal;font-family:Menlo,'DejaVu Sans Mono',consolas,'Courier New',monospace\"></pre>\n"
      ],
      "text/plain": []
     },
     "metadata": {},
     "output_type": "display_data"
    },
    {
     "data": {
      "text/html": [
       "<div>\n",
       "<style scoped>\n",
       "    .dataframe tbody tr th:only-of-type {\n",
       "        vertical-align: middle;\n",
       "    }\n",
       "\n",
       "    .dataframe tbody tr th {\n",
       "        vertical-align: top;\n",
       "    }\n",
       "\n",
       "    .dataframe thead th {\n",
       "        text-align: right;\n",
       "    }\n",
       "</style>\n",
       "<table border=\"1\" class=\"dataframe\">\n",
       "  <thead>\n",
       "    <tr style=\"text-align: right;\">\n",
       "      <th></th>\n",
       "      <th>category</th>\n",
       "      <th>amt</th>\n",
       "      <th>city</th>\n",
       "      <th>state</th>\n",
       "      <th>dayofweek</th>\n",
       "      <th>hour</th>\n",
       "      <th>age</th>\n",
       "    </tr>\n",
       "  </thead>\n",
       "  <tbody>\n",
       "    <tr>\n",
       "      <th>287032</th>\n",
       "      <td>misc_net</td>\n",
       "      <td>665.68</td>\n",
       "      <td>Other</td>\n",
       "      <td>Other</td>\n",
       "      <td>0</td>\n",
       "      <td>23</td>\n",
       "      <td>93</td>\n",
       "    </tr>\n",
       "    <tr>\n",
       "      <th>145004</th>\n",
       "      <td>misc_pos</td>\n",
       "      <td>22.79</td>\n",
       "      <td>Other</td>\n",
       "      <td>CA</td>\n",
       "      <td>1</td>\n",
       "      <td>5</td>\n",
       "      <td>60</td>\n",
       "    </tr>\n",
       "    <tr>\n",
       "      <th>542042</th>\n",
       "      <td>misc_net</td>\n",
       "      <td>719.30</td>\n",
       "      <td>Other</td>\n",
       "      <td>Other</td>\n",
       "      <td>0</td>\n",
       "      <td>23</td>\n",
       "      <td>81</td>\n",
       "    </tr>\n",
       "    <tr>\n",
       "      <th>552188</th>\n",
       "      <td>health_fitness</td>\n",
       "      <td>45.72</td>\n",
       "      <td>Other</td>\n",
       "      <td>TX</td>\n",
       "      <td>5</td>\n",
       "      <td>12</td>\n",
       "      <td>35</td>\n",
       "    </tr>\n",
       "    <tr>\n",
       "      <th>204248</th>\n",
       "      <td>health_fitness</td>\n",
       "      <td>61.79</td>\n",
       "      <td>Other</td>\n",
       "      <td>MI</td>\n",
       "      <td>6</td>\n",
       "      <td>19</td>\n",
       "      <td>45</td>\n",
       "    </tr>\n",
       "    <tr>\n",
       "      <th>...</th>\n",
       "      <td>...</td>\n",
       "      <td>...</td>\n",
       "      <td>...</td>\n",
       "      <td>...</td>\n",
       "      <td>...</td>\n",
       "      <td>...</td>\n",
       "      <td>...</td>\n",
       "    </tr>\n",
       "    <tr>\n",
       "      <th>1256269</th>\n",
       "      <td>shopping_pos</td>\n",
       "      <td>4.79</td>\n",
       "      <td>Other</td>\n",
       "      <td>Other</td>\n",
       "      <td>6</td>\n",
       "      <td>7</td>\n",
       "      <td>94</td>\n",
       "    </tr>\n",
       "    <tr>\n",
       "      <th>782694</th>\n",
       "      <td>personal_care</td>\n",
       "      <td>10.51</td>\n",
       "      <td>Other</td>\n",
       "      <td>Other</td>\n",
       "      <td>5</td>\n",
       "      <td>20</td>\n",
       "      <td>32</td>\n",
       "    </tr>\n",
       "    <tr>\n",
       "      <th>720112</th>\n",
       "      <td>entertainment</td>\n",
       "      <td>212.86</td>\n",
       "      <td>Other</td>\n",
       "      <td>AL</td>\n",
       "      <td>6</td>\n",
       "      <td>17</td>\n",
       "      <td>47</td>\n",
       "    </tr>\n",
       "    <tr>\n",
       "      <th>1170126</th>\n",
       "      <td>home</td>\n",
       "      <td>42.01</td>\n",
       "      <td>Other</td>\n",
       "      <td>Other</td>\n",
       "      <td>6</td>\n",
       "      <td>19</td>\n",
       "      <td>86</td>\n",
       "    </tr>\n",
       "    <tr>\n",
       "      <th>415991</th>\n",
       "      <td>grocery_pos</td>\n",
       "      <td>314.33</td>\n",
       "      <td>Other</td>\n",
       "      <td>Other</td>\n",
       "      <td>6</td>\n",
       "      <td>1</td>\n",
       "      <td>51</td>\n",
       "    </tr>\n",
       "  </tbody>\n",
       "</table>\n",
       "<p>28000 rows × 7 columns</p>\n",
       "</div>"
      ],
      "text/plain": [
       "\n",
       "               category     amt   city  state  dayofweek  hour  age\n",
       "\u001b[1;36m287032\u001b[0m         misc_net  \u001b[1;36m665.68\u001b[0m  Other  Other          \u001b[1;36m0\u001b[0m    \u001b[1;36m23\u001b[0m   \u001b[1;36m93\u001b[0m\n",
       "\u001b[1;36m145004\u001b[0m         misc_pos   \u001b[1;36m22.79\u001b[0m  Other     CA          \u001b[1;36m1\u001b[0m     \u001b[1;36m5\u001b[0m   \u001b[1;36m60\u001b[0m\n",
       "\u001b[1;36m542042\u001b[0m         misc_net  \u001b[1;36m719.30\u001b[0m  Other  Other          \u001b[1;36m0\u001b[0m    \u001b[1;36m23\u001b[0m   \u001b[1;36m81\u001b[0m\n",
       "\u001b[1;36m552188\u001b[0m   health_fitness   \u001b[1;36m45.72\u001b[0m  Other     TX          \u001b[1;36m5\u001b[0m    \u001b[1;36m12\u001b[0m   \u001b[1;36m35\u001b[0m\n",
       "\u001b[1;36m204248\u001b[0m   health_fitness   \u001b[1;36m61.79\u001b[0m  Other     MI          \u001b[1;36m6\u001b[0m    \u001b[1;36m19\u001b[0m   \u001b[1;36m45\u001b[0m\n",
       "\u001b[33m...\u001b[0m                 \u001b[33m...\u001b[0m     \u001b[33m...\u001b[0m    \u001b[33m...\u001b[0m    \u001b[33m...\u001b[0m        \u001b[33m...\u001b[0m   \u001b[33m...\u001b[0m  \u001b[33m...\u001b[0m\n",
       "\u001b[1;36m1256269\u001b[0m    shopping_pos    \u001b[1;36m4.79\u001b[0m  Other  Other          \u001b[1;36m6\u001b[0m     \u001b[1;36m7\u001b[0m   \u001b[1;36m94\u001b[0m\n",
       "\u001b[1;36m782694\u001b[0m    personal_care   \u001b[1;36m10.51\u001b[0m  Other  Other          \u001b[1;36m5\u001b[0m    \u001b[1;36m20\u001b[0m   \u001b[1;36m32\u001b[0m\n",
       "\u001b[1;36m720112\u001b[0m    entertainment  \u001b[1;36m212.86\u001b[0m  Other     AL          \u001b[1;36m6\u001b[0m    \u001b[1;36m17\u001b[0m   \u001b[1;36m47\u001b[0m\n",
       "\u001b[1;36m1170126\u001b[0m            home   \u001b[1;36m42.01\u001b[0m  Other  Other          \u001b[1;36m6\u001b[0m    \u001b[1;36m19\u001b[0m   \u001b[1;36m86\u001b[0m\n",
       "\u001b[1;36m415991\u001b[0m      grocery_pos  \u001b[1;36m314.33\u001b[0m  Other  Other          \u001b[1;36m6\u001b[0m     \u001b[1;36m1\u001b[0m   \u001b[1;36m51\u001b[0m\n",
       "\n",
       "\u001b[1m[\u001b[0m\u001b[1;36m28000\u001b[0m rows x \u001b[1;36m7\u001b[0m columns\u001b[1m]\u001b[0m"
      ]
     },
     "execution_count": 40,
     "metadata": {},
     "output_type": "execute_result"
    }
   ],
   "source": [
    "X_train"
   ]
  },
  {
   "cell_type": "markdown",
   "metadata": {},
   "source": [
    "### `ColumnTransformer`"
   ]
  },
  {
   "cell_type": "code",
   "execution_count": 41,
   "metadata": {},
   "outputs": [],
   "source": [
    "preprocessor = ColumnTransformer(\n",
    "    transformers=[\n",
    "        (\"numeric_standard\", standard_transformer, standard_features),\n",
    "        (\"numeric_minmax\", minmax_transformer, minmax_features),\n",
    "        (\"categorical_onehot\", onehot_transformer, onehot_features),\n",
    "    ]\n",
    ")"
   ]
  },
  {
   "cell_type": "code",
   "execution_count": 42,
   "metadata": {},
   "outputs": [
    {
     "name": "stdout",
     "output_type": "stream",
     "text": [
      "36\n"
     ]
    },
    {
     "data": {
      "text/html": [
       "<pre style=\"white-space:pre;overflow-x:auto;line-height:normal;font-family:Menlo,'DejaVu Sans Mono',consolas,'Courier New',monospace\"></pre>\n"
      ],
      "text/plain": []
     },
     "metadata": {},
     "output_type": "display_data"
    },
    {
     "data": {
      "text/plain": [
       "\n",
       "\u001b[1m[\u001b[0m\n",
       "    \u001b[32m'misc_net'\u001b[0m,\n",
       "    \u001b[32m'misc_pos'\u001b[0m,\n",
       "    \u001b[32m'health_fitness'\u001b[0m,\n",
       "    \u001b[32m'food_dining'\u001b[0m,\n",
       "    \u001b[32m'home'\u001b[0m,\n",
       "    \u001b[32m'gas_transport'\u001b[0m,\n",
       "    \u001b[32m'entertainment'\u001b[0m,\n",
       "    \u001b[32m'shopping_net'\u001b[0m,\n",
       "    \u001b[32m'kids_pets'\u001b[0m,\n",
       "    \u001b[32m'grocery_net'\u001b[0m,\n",
       "    \u001b[32m'shopping_pos'\u001b[0m,\n",
       "    \u001b[32m'grocery_pos'\u001b[0m,\n",
       "    \u001b[32m'travel'\u001b[0m,\n",
       "    \u001b[32m'personal_care'\u001b[0m,\n",
       "    \u001b[32m'Other'\u001b[0m,\n",
       "    \u001b[32m'Phoenix'\u001b[0m,\n",
       "    \u001b[32m'Conway'\u001b[0m,\n",
       "    \u001b[32m'Birmingham'\u001b[0m,\n",
       "    \u001b[32m'Cleveland'\u001b[0m,\n",
       "    \u001b[32m'San Antonio'\u001b[0m,\n",
       "    \u001b[32m'Warren'\u001b[0m,\n",
       "    \u001b[32m'Utica'\u001b[0m,\n",
       "    \u001b[32m'Thomas'\u001b[0m,\n",
       "    \u001b[32m'Meridian'\u001b[0m,\n",
       "    \u001b[32m'Other'\u001b[0m,\n",
       "    \u001b[32m'CA'\u001b[0m,\n",
       "    \u001b[32m'TX'\u001b[0m,\n",
       "    \u001b[32m'MI'\u001b[0m,\n",
       "    \u001b[32m'IL'\u001b[0m,\n",
       "    \u001b[32m'AL'\u001b[0m,\n",
       "    \u001b[32m'PA'\u001b[0m,\n",
       "    \u001b[32m'FL'\u001b[0m,\n",
       "    \u001b[32m'OH'\u001b[0m,\n",
       "    \u001b[32m'NY'\u001b[0m,\n",
       "    \u001b[32m'MO'\u001b[0m,\n",
       "    \u001b[32m'MN'\u001b[0m\n",
       "\u001b[1m]\u001b[0m"
      ]
     },
     "execution_count": 42,
     "metadata": {},
     "output_type": "execute_result"
    }
   ],
   "source": [
    "cat_feats = []\n",
    "for feat in onehot_features:\n",
    "    c = X_train[onehot_features][feat].unique().tolist()\n",
    "    cat_feats.extend(c)\n",
    "\n",
    "print(len(cat_feats))    \n",
    "cat_feats"
   ]
  },
  {
   "cell_type": "code",
   "execution_count": 43,
   "metadata": {},
   "outputs": [
    {
     "name": "stdout",
     "output_type": "stream",
     "text": [
      "[Pipeline] ............ (step 1 of 1) Processing scaler, total=   0.0s\n",
      "[Pipeline] ............ (step 1 of 1) Processing minmax, total=   0.0s\n",
      "[Pipeline] ............ (step 1 of 1) Processing onehot, total=   0.0s\n"
     ]
    },
    {
     "data": {
      "text/html": [
       "<pre style=\"white-space:pre;overflow-x:auto;line-height:normal;font-family:Menlo,'DejaVu Sans Mono',consolas,'Courier New',monospace\"></pre>\n"
      ],
      "text/plain": []
     },
     "metadata": {},
     "output_type": "display_data"
    },
    {
     "data": {
      "text/html": [
       "<div>\n",
       "<style scoped>\n",
       "    .dataframe tbody tr th:only-of-type {\n",
       "        vertical-align: middle;\n",
       "    }\n",
       "\n",
       "    .dataframe tbody tr th {\n",
       "        vertical-align: top;\n",
       "    }\n",
       "\n",
       "    .dataframe thead th {\n",
       "        text-align: right;\n",
       "    }\n",
       "</style>\n",
       "<table border=\"1\" class=\"dataframe\">\n",
       "  <thead>\n",
       "    <tr style=\"text-align: right;\">\n",
       "      <th></th>\n",
       "      <th>amt</th>\n",
       "      <th>age</th>\n",
       "      <th>hour</th>\n",
       "      <th>dayofweek</th>\n",
       "      <th>misc_net</th>\n",
       "      <th>misc_pos</th>\n",
       "      <th>health_fitness</th>\n",
       "      <th>food_dining</th>\n",
       "      <th>home</th>\n",
       "      <th>gas_transport</th>\n",
       "      <th>...</th>\n",
       "      <th>MI</th>\n",
       "      <th>IL</th>\n",
       "      <th>AL</th>\n",
       "      <th>PA</th>\n",
       "      <th>FL</th>\n",
       "      <th>OH</th>\n",
       "      <th>NY</th>\n",
       "      <th>MO</th>\n",
       "      <th>MN</th>\n",
       "      <th>is_fraud</th>\n",
       "    </tr>\n",
       "  </thead>\n",
       "  <tbody>\n",
       "    <tr>\n",
       "      <th>0</th>\n",
       "      <td>1.760416</td>\n",
       "      <td>0.963415</td>\n",
       "      <td>1.000000</td>\n",
       "      <td>0.000000</td>\n",
       "      <td>0.0</td>\n",
       "      <td>0.0</td>\n",
       "      <td>0.0</td>\n",
       "      <td>0.0</td>\n",
       "      <td>0.0</td>\n",
       "      <td>0.0</td>\n",
       "      <td>...</td>\n",
       "      <td>0.0</td>\n",
       "      <td>0.0</td>\n",
       "      <td>0.0</td>\n",
       "      <td>0.0</td>\n",
       "      <td>0.0</td>\n",
       "      <td>0.0</td>\n",
       "      <td>1.0</td>\n",
       "      <td>0.0</td>\n",
       "      <td>0.0</td>\n",
       "      <td>1</td>\n",
       "    </tr>\n",
       "    <tr>\n",
       "      <th>1</th>\n",
       "      <td>-0.476746</td>\n",
       "      <td>0.560976</td>\n",
       "      <td>0.217391</td>\n",
       "      <td>0.166667</td>\n",
       "      <td>0.0</td>\n",
       "      <td>0.0</td>\n",
       "      <td>0.0</td>\n",
       "      <td>0.0</td>\n",
       "      <td>0.0</td>\n",
       "      <td>0.0</td>\n",
       "      <td>...</td>\n",
       "      <td>0.0</td>\n",
       "      <td>0.0</td>\n",
       "      <td>0.0</td>\n",
       "      <td>0.0</td>\n",
       "      <td>0.0</td>\n",
       "      <td>0.0</td>\n",
       "      <td>0.0</td>\n",
       "      <td>0.0</td>\n",
       "      <td>0.0</td>\n",
       "      <td>0</td>\n",
       "    </tr>\n",
       "    <tr>\n",
       "      <th>2</th>\n",
       "      <td>1.947006</td>\n",
       "      <td>0.817073</td>\n",
       "      <td>1.000000</td>\n",
       "      <td>0.000000</td>\n",
       "      <td>0.0</td>\n",
       "      <td>0.0</td>\n",
       "      <td>0.0</td>\n",
       "      <td>0.0</td>\n",
       "      <td>0.0</td>\n",
       "      <td>0.0</td>\n",
       "      <td>...</td>\n",
       "      <td>0.0</td>\n",
       "      <td>0.0</td>\n",
       "      <td>0.0</td>\n",
       "      <td>0.0</td>\n",
       "      <td>0.0</td>\n",
       "      <td>0.0</td>\n",
       "      <td>1.0</td>\n",
       "      <td>0.0</td>\n",
       "      <td>0.0</td>\n",
       "      <td>1</td>\n",
       "    </tr>\n",
       "    <tr>\n",
       "      <th>3</th>\n",
       "      <td>-0.396953</td>\n",
       "      <td>0.256098</td>\n",
       "      <td>0.521739</td>\n",
       "      <td>0.833333</td>\n",
       "      <td>0.0</td>\n",
       "      <td>0.0</td>\n",
       "      <td>0.0</td>\n",
       "      <td>0.0</td>\n",
       "      <td>0.0</td>\n",
       "      <td>1.0</td>\n",
       "      <td>...</td>\n",
       "      <td>0.0</td>\n",
       "      <td>0.0</td>\n",
       "      <td>0.0</td>\n",
       "      <td>0.0</td>\n",
       "      <td>0.0</td>\n",
       "      <td>0.0</td>\n",
       "      <td>0.0</td>\n",
       "      <td>0.0</td>\n",
       "      <td>1.0</td>\n",
       "      <td>0</td>\n",
       "    </tr>\n",
       "    <tr>\n",
       "      <th>4</th>\n",
       "      <td>-0.341032</td>\n",
       "      <td>0.378049</td>\n",
       "      <td>0.826087</td>\n",
       "      <td>1.000000</td>\n",
       "      <td>0.0</td>\n",
       "      <td>0.0</td>\n",
       "      <td>0.0</td>\n",
       "      <td>0.0</td>\n",
       "      <td>0.0</td>\n",
       "      <td>1.0</td>\n",
       "      <td>...</td>\n",
       "      <td>0.0</td>\n",
       "      <td>1.0</td>\n",
       "      <td>0.0</td>\n",
       "      <td>0.0</td>\n",
       "      <td>0.0</td>\n",
       "      <td>0.0</td>\n",
       "      <td>0.0</td>\n",
       "      <td>0.0</td>\n",
       "      <td>0.0</td>\n",
       "      <td>0</td>\n",
       "    </tr>\n",
       "    <tr>\n",
       "      <th>...</th>\n",
       "      <td>...</td>\n",
       "      <td>...</td>\n",
       "      <td>...</td>\n",
       "      <td>...</td>\n",
       "      <td>...</td>\n",
       "      <td>...</td>\n",
       "      <td>...</td>\n",
       "      <td>...</td>\n",
       "      <td>...</td>\n",
       "      <td>...</td>\n",
       "      <td>...</td>\n",
       "      <td>...</td>\n",
       "      <td>...</td>\n",
       "      <td>...</td>\n",
       "      <td>...</td>\n",
       "      <td>...</td>\n",
       "      <td>...</td>\n",
       "      <td>...</td>\n",
       "      <td>...</td>\n",
       "      <td>...</td>\n",
       "      <td>...</td>\n",
       "    </tr>\n",
       "    <tr>\n",
       "      <th>27995</th>\n",
       "      <td>-0.539383</td>\n",
       "      <td>0.975610</td>\n",
       "      <td>0.304348</td>\n",
       "      <td>1.000000</td>\n",
       "      <td>0.0</td>\n",
       "      <td>0.0</td>\n",
       "      <td>0.0</td>\n",
       "      <td>0.0</td>\n",
       "      <td>0.0</td>\n",
       "      <td>0.0</td>\n",
       "      <td>...</td>\n",
       "      <td>0.0</td>\n",
       "      <td>0.0</td>\n",
       "      <td>0.0</td>\n",
       "      <td>0.0</td>\n",
       "      <td>0.0</td>\n",
       "      <td>0.0</td>\n",
       "      <td>1.0</td>\n",
       "      <td>0.0</td>\n",
       "      <td>0.0</td>\n",
       "      <td>0</td>\n",
       "    </tr>\n",
       "    <tr>\n",
       "      <th>27996</th>\n",
       "      <td>-0.519479</td>\n",
       "      <td>0.219512</td>\n",
       "      <td>0.869565</td>\n",
       "      <td>0.833333</td>\n",
       "      <td>0.0</td>\n",
       "      <td>0.0</td>\n",
       "      <td>0.0</td>\n",
       "      <td>0.0</td>\n",
       "      <td>0.0</td>\n",
       "      <td>0.0</td>\n",
       "      <td>...</td>\n",
       "      <td>0.0</td>\n",
       "      <td>0.0</td>\n",
       "      <td>0.0</td>\n",
       "      <td>0.0</td>\n",
       "      <td>0.0</td>\n",
       "      <td>0.0</td>\n",
       "      <td>1.0</td>\n",
       "      <td>0.0</td>\n",
       "      <td>0.0</td>\n",
       "      <td>0</td>\n",
       "    </tr>\n",
       "    <tr>\n",
       "      <th>27997</th>\n",
       "      <td>0.184669</td>\n",
       "      <td>0.402439</td>\n",
       "      <td>0.739130</td>\n",
       "      <td>1.000000</td>\n",
       "      <td>1.0</td>\n",
       "      <td>0.0</td>\n",
       "      <td>0.0</td>\n",
       "      <td>0.0</td>\n",
       "      <td>0.0</td>\n",
       "      <td>0.0</td>\n",
       "      <td>...</td>\n",
       "      <td>0.0</td>\n",
       "      <td>0.0</td>\n",
       "      <td>0.0</td>\n",
       "      <td>0.0</td>\n",
       "      <td>0.0</td>\n",
       "      <td>0.0</td>\n",
       "      <td>0.0</td>\n",
       "      <td>0.0</td>\n",
       "      <td>0.0</td>\n",
       "      <td>0</td>\n",
       "    </tr>\n",
       "    <tr>\n",
       "      <th>27998</th>\n",
       "      <td>-0.409863</td>\n",
       "      <td>0.878049</td>\n",
       "      <td>0.826087</td>\n",
       "      <td>1.000000</td>\n",
       "      <td>0.0</td>\n",
       "      <td>0.0</td>\n",
       "      <td>0.0</td>\n",
       "      <td>0.0</td>\n",
       "      <td>0.0</td>\n",
       "      <td>0.0</td>\n",
       "      <td>...</td>\n",
       "      <td>0.0</td>\n",
       "      <td>0.0</td>\n",
       "      <td>0.0</td>\n",
       "      <td>0.0</td>\n",
       "      <td>0.0</td>\n",
       "      <td>0.0</td>\n",
       "      <td>1.0</td>\n",
       "      <td>0.0</td>\n",
       "      <td>0.0</td>\n",
       "      <td>0</td>\n",
       "    </tr>\n",
       "    <tr>\n",
       "      <th>27999</th>\n",
       "      <td>0.537770</td>\n",
       "      <td>0.451220</td>\n",
       "      <td>0.043478</td>\n",
       "      <td>1.000000</td>\n",
       "      <td>0.0</td>\n",
       "      <td>0.0</td>\n",
       "      <td>0.0</td>\n",
       "      <td>0.0</td>\n",
       "      <td>1.0</td>\n",
       "      <td>0.0</td>\n",
       "      <td>...</td>\n",
       "      <td>0.0</td>\n",
       "      <td>0.0</td>\n",
       "      <td>0.0</td>\n",
       "      <td>0.0</td>\n",
       "      <td>0.0</td>\n",
       "      <td>0.0</td>\n",
       "      <td>1.0</td>\n",
       "      <td>0.0</td>\n",
       "      <td>0.0</td>\n",
       "      <td>1</td>\n",
       "    </tr>\n",
       "  </tbody>\n",
       "</table>\n",
       "<p>28000 rows × 41 columns</p>\n",
       "</div>"
      ],
      "text/plain": [
       "\n",
       "            amt       age      hour  dayofweek  misc_net  misc_pos  \\\n",
       "\u001b[1;36m0\u001b[0m      \u001b[1;36m1.760416\u001b[0m  \u001b[1;36m0.963415\u001b[0m  \u001b[1;36m1.000000\u001b[0m   \u001b[1;36m0.000000\u001b[0m       \u001b[1;36m0.0\u001b[0m       \u001b[1;36m0.0\u001b[0m   \n",
       "\u001b[1;36m1\u001b[0m     \u001b[1;36m-0.476746\u001b[0m  \u001b[1;36m0.560976\u001b[0m  \u001b[1;36m0.217391\u001b[0m   \u001b[1;36m0.166667\u001b[0m       \u001b[1;36m0.0\u001b[0m       \u001b[1;36m0.0\u001b[0m   \n",
       "\u001b[1;36m2\u001b[0m      \u001b[1;36m1.947006\u001b[0m  \u001b[1;36m0.817073\u001b[0m  \u001b[1;36m1.000000\u001b[0m   \u001b[1;36m0.000000\u001b[0m       \u001b[1;36m0.0\u001b[0m       \u001b[1;36m0.0\u001b[0m   \n",
       "\u001b[1;36m3\u001b[0m     \u001b[1;36m-0.396953\u001b[0m  \u001b[1;36m0.256098\u001b[0m  \u001b[1;36m0.521739\u001b[0m   \u001b[1;36m0.833333\u001b[0m       \u001b[1;36m0.0\u001b[0m       \u001b[1;36m0.0\u001b[0m   \n",
       "\u001b[1;36m4\u001b[0m     \u001b[1;36m-0.341032\u001b[0m  \u001b[1;36m0.378049\u001b[0m  \u001b[1;36m0.826087\u001b[0m   \u001b[1;36m1.000000\u001b[0m       \u001b[1;36m0.0\u001b[0m       \u001b[1;36m0.0\u001b[0m   \n",
       "\u001b[33m...\u001b[0m         \u001b[33m...\u001b[0m       \u001b[33m...\u001b[0m       \u001b[33m...\u001b[0m        \u001b[33m...\u001b[0m       \u001b[33m...\u001b[0m       \u001b[33m...\u001b[0m   \n",
       "\u001b[1;36m27995\u001b[0m \u001b[1;36m-0.539383\u001b[0m  \u001b[1;36m0.975610\u001b[0m  \u001b[1;36m0.304348\u001b[0m   \u001b[1;36m1.000000\u001b[0m       \u001b[1;36m0.0\u001b[0m       \u001b[1;36m0.0\u001b[0m   \n",
       "\u001b[1;36m27996\u001b[0m \u001b[1;36m-0.519479\u001b[0m  \u001b[1;36m0.219512\u001b[0m  \u001b[1;36m0.869565\u001b[0m   \u001b[1;36m0.833333\u001b[0m       \u001b[1;36m0.0\u001b[0m       \u001b[1;36m0.0\u001b[0m   \n",
       "\u001b[1;36m27997\u001b[0m  \u001b[1;36m0.184669\u001b[0m  \u001b[1;36m0.402439\u001b[0m  \u001b[1;36m0.739130\u001b[0m   \u001b[1;36m1.000000\u001b[0m       \u001b[1;36m1.0\u001b[0m       \u001b[1;36m0.0\u001b[0m   \n",
       "\u001b[1;36m27998\u001b[0m \u001b[1;36m-0.409863\u001b[0m  \u001b[1;36m0.878049\u001b[0m  \u001b[1;36m0.826087\u001b[0m   \u001b[1;36m1.000000\u001b[0m       \u001b[1;36m0.0\u001b[0m       \u001b[1;36m0.0\u001b[0m   \n",
       "\u001b[1;36m27999\u001b[0m  \u001b[1;36m0.537770\u001b[0m  \u001b[1;36m0.451220\u001b[0m  \u001b[1;36m0.043478\u001b[0m   \u001b[1;36m1.000000\u001b[0m       \u001b[1;36m0.0\u001b[0m       \u001b[1;36m0.0\u001b[0m   \n",
       "\n",
       "       health_fitness  food_dining  home  gas_transport  \u001b[33m...\u001b[0m   MI   IL   AL  \\\n",
       "\u001b[1;36m0\u001b[0m                 \u001b[1;36m0.0\u001b[0m          \u001b[1;36m0.0\u001b[0m   \u001b[1;36m0.0\u001b[0m            \u001b[1;36m0.0\u001b[0m  \u001b[33m...\u001b[0m  \u001b[1;36m0.0\u001b[0m  \u001b[1;36m0.0\u001b[0m  \u001b[1;36m0.0\u001b[0m   \n",
       "\u001b[1;36m1\u001b[0m                 \u001b[1;36m0.0\u001b[0m          \u001b[1;36m0.0\u001b[0m   \u001b[1;36m0.0\u001b[0m            \u001b[1;36m0.0\u001b[0m  \u001b[33m...\u001b[0m  \u001b[1;36m0.0\u001b[0m  \u001b[1;36m0.0\u001b[0m  \u001b[1;36m0.0\u001b[0m   \n",
       "\u001b[1;36m2\u001b[0m                 \u001b[1;36m0.0\u001b[0m          \u001b[1;36m0.0\u001b[0m   \u001b[1;36m0.0\u001b[0m            \u001b[1;36m0.0\u001b[0m  \u001b[33m...\u001b[0m  \u001b[1;36m0.0\u001b[0m  \u001b[1;36m0.0\u001b[0m  \u001b[1;36m0.0\u001b[0m   \n",
       "\u001b[1;36m3\u001b[0m                 \u001b[1;36m0.0\u001b[0m          \u001b[1;36m0.0\u001b[0m   \u001b[1;36m0.0\u001b[0m            \u001b[1;36m1.0\u001b[0m  \u001b[33m...\u001b[0m  \u001b[1;36m0.0\u001b[0m  \u001b[1;36m0.0\u001b[0m  \u001b[1;36m0.0\u001b[0m   \n",
       "\u001b[1;36m4\u001b[0m                 \u001b[1;36m0.0\u001b[0m          \u001b[1;36m0.0\u001b[0m   \u001b[1;36m0.0\u001b[0m            \u001b[1;36m1.0\u001b[0m  \u001b[33m...\u001b[0m  \u001b[1;36m0.0\u001b[0m  \u001b[1;36m1.0\u001b[0m  \u001b[1;36m0.0\u001b[0m   \n",
       "\u001b[33m...\u001b[0m               \u001b[33m...\u001b[0m          \u001b[33m...\u001b[0m   \u001b[33m...\u001b[0m            \u001b[33m...\u001b[0m  \u001b[33m...\u001b[0m  \u001b[33m...\u001b[0m  \u001b[33m...\u001b[0m  \u001b[33m...\u001b[0m   \n",
       "\u001b[1;36m27995\u001b[0m             \u001b[1;36m0.0\u001b[0m          \u001b[1;36m0.0\u001b[0m   \u001b[1;36m0.0\u001b[0m            \u001b[1;36m0.0\u001b[0m  \u001b[33m...\u001b[0m  \u001b[1;36m0.0\u001b[0m  \u001b[1;36m0.0\u001b[0m  \u001b[1;36m0.0\u001b[0m   \n",
       "\u001b[1;36m27996\u001b[0m             \u001b[1;36m0.0\u001b[0m          \u001b[1;36m0.0\u001b[0m   \u001b[1;36m0.0\u001b[0m            \u001b[1;36m0.0\u001b[0m  \u001b[33m...\u001b[0m  \u001b[1;36m0.0\u001b[0m  \u001b[1;36m0.0\u001b[0m  \u001b[1;36m0.0\u001b[0m   \n",
       "\u001b[1;36m27997\u001b[0m             \u001b[1;36m0.0\u001b[0m          \u001b[1;36m0.0\u001b[0m   \u001b[1;36m0.0\u001b[0m            \u001b[1;36m0.0\u001b[0m  \u001b[33m...\u001b[0m  \u001b[1;36m0.0\u001b[0m  \u001b[1;36m0.0\u001b[0m  \u001b[1;36m0.0\u001b[0m   \n",
       "\u001b[1;36m27998\u001b[0m             \u001b[1;36m0.0\u001b[0m          \u001b[1;36m0.0\u001b[0m   \u001b[1;36m0.0\u001b[0m            \u001b[1;36m0.0\u001b[0m  \u001b[33m...\u001b[0m  \u001b[1;36m0.0\u001b[0m  \u001b[1;36m0.0\u001b[0m  \u001b[1;36m0.0\u001b[0m   \n",
       "\u001b[1;36m27999\u001b[0m             \u001b[1;36m0.0\u001b[0m          \u001b[1;36m0.0\u001b[0m   \u001b[1;36m1.0\u001b[0m            \u001b[1;36m0.0\u001b[0m  \u001b[33m...\u001b[0m  \u001b[1;36m0.0\u001b[0m  \u001b[1;36m0.0\u001b[0m  \u001b[1;36m0.0\u001b[0m   \n",
       "\n",
       "        PA   FL   OH   NY   MO   MN  is_fraud  \n",
       "\u001b[1;36m0\u001b[0m      \u001b[1;36m0.0\u001b[0m  \u001b[1;36m0.0\u001b[0m  \u001b[1;36m0.0\u001b[0m  \u001b[1;36m1.0\u001b[0m  \u001b[1;36m0.0\u001b[0m  \u001b[1;36m0.0\u001b[0m         \u001b[1;36m1\u001b[0m  \n",
       "\u001b[1;36m1\u001b[0m      \u001b[1;36m0.0\u001b[0m  \u001b[1;36m0.0\u001b[0m  \u001b[1;36m0.0\u001b[0m  \u001b[1;36m0.0\u001b[0m  \u001b[1;36m0.0\u001b[0m  \u001b[1;36m0.0\u001b[0m         \u001b[1;36m0\u001b[0m  \n",
       "\u001b[1;36m2\u001b[0m      \u001b[1;36m0.0\u001b[0m  \u001b[1;36m0.0\u001b[0m  \u001b[1;36m0.0\u001b[0m  \u001b[1;36m1.0\u001b[0m  \u001b[1;36m0.0\u001b[0m  \u001b[1;36m0.0\u001b[0m         \u001b[1;36m1\u001b[0m  \n",
       "\u001b[1;36m3\u001b[0m      \u001b[1;36m0.0\u001b[0m  \u001b[1;36m0.0\u001b[0m  \u001b[1;36m0.0\u001b[0m  \u001b[1;36m0.0\u001b[0m  \u001b[1;36m0.0\u001b[0m  \u001b[1;36m1.0\u001b[0m         \u001b[1;36m0\u001b[0m  \n",
       "\u001b[1;36m4\u001b[0m      \u001b[1;36m0.0\u001b[0m  \u001b[1;36m0.0\u001b[0m  \u001b[1;36m0.0\u001b[0m  \u001b[1;36m0.0\u001b[0m  \u001b[1;36m0.0\u001b[0m  \u001b[1;36m0.0\u001b[0m         \u001b[1;36m0\u001b[0m  \n",
       "\u001b[33m...\u001b[0m    \u001b[33m...\u001b[0m  \u001b[33m...\u001b[0m  \u001b[33m...\u001b[0m  \u001b[33m...\u001b[0m  \u001b[33m...\u001b[0m  \u001b[33m...\u001b[0m       \u001b[33m...\u001b[0m  \n",
       "\u001b[1;36m27995\u001b[0m  \u001b[1;36m0.0\u001b[0m  \u001b[1;36m0.0\u001b[0m  \u001b[1;36m0.0\u001b[0m  \u001b[1;36m1.0\u001b[0m  \u001b[1;36m0.0\u001b[0m  \u001b[1;36m0.0\u001b[0m         \u001b[1;36m0\u001b[0m  \n",
       "\u001b[1;36m27996\u001b[0m  \u001b[1;36m0.0\u001b[0m  \u001b[1;36m0.0\u001b[0m  \u001b[1;36m0.0\u001b[0m  \u001b[1;36m1.0\u001b[0m  \u001b[1;36m0.0\u001b[0m  \u001b[1;36m0.0\u001b[0m         \u001b[1;36m0\u001b[0m  \n",
       "\u001b[1;36m27997\u001b[0m  \u001b[1;36m0.0\u001b[0m  \u001b[1;36m0.0\u001b[0m  \u001b[1;36m0.0\u001b[0m  \u001b[1;36m0.0\u001b[0m  \u001b[1;36m0.0\u001b[0m  \u001b[1;36m0.0\u001b[0m         \u001b[1;36m0\u001b[0m  \n",
       "\u001b[1;36m27998\u001b[0m  \u001b[1;36m0.0\u001b[0m  \u001b[1;36m0.0\u001b[0m  \u001b[1;36m0.0\u001b[0m  \u001b[1;36m1.0\u001b[0m  \u001b[1;36m0.0\u001b[0m  \u001b[1;36m0.0\u001b[0m         \u001b[1;36m0\u001b[0m  \n",
       "\u001b[1;36m27999\u001b[0m  \u001b[1;36m0.0\u001b[0m  \u001b[1;36m0.0\u001b[0m  \u001b[1;36m0.0\u001b[0m  \u001b[1;36m1.0\u001b[0m  \u001b[1;36m0.0\u001b[0m  \u001b[1;36m0.0\u001b[0m         \u001b[1;36m1\u001b[0m  \n",
       "\n",
       "\u001b[1m[\u001b[0m\u001b[1;36m28000\u001b[0m rows x \u001b[1;36m41\u001b[0m columns\u001b[1m]\u001b[0m"
      ]
     },
     "execution_count": 43,
     "metadata": {},
     "output_type": "execute_result"
    }
   ],
   "source": [
    "processed_train_df = preprocessor.fit_transform(X_train)\n",
    "processed_train_df = pd.DataFrame(processed_train_df, columns=[*standard_features, *minmax_features, *cat_feats])\n",
    "processed_train_df[\"is_fraud\"] = y_train.to_list()\n",
    "processed_train_df"
   ]
  },
  {
   "cell_type": "code",
   "execution_count": 44,
   "metadata": {},
   "outputs": [
    {
     "data": {
      "text/html": [
       "<pre style=\"white-space:pre;overflow-x:auto;line-height:normal;font-family:Menlo,'DejaVu Sans Mono',consolas,'Courier New',monospace\"></pre>\n"
      ],
      "text/plain": []
     },
     "metadata": {},
     "output_type": "display_data"
    },
    {
     "data": {
      "text/html": [
       "<div>\n",
       "<style scoped>\n",
       "    .dataframe tbody tr th:only-of-type {\n",
       "        vertical-align: middle;\n",
       "    }\n",
       "\n",
       "    .dataframe tbody tr th {\n",
       "        vertical-align: top;\n",
       "    }\n",
       "\n",
       "    .dataframe thead th {\n",
       "        text-align: right;\n",
       "    }\n",
       "</style>\n",
       "<table border=\"1\" class=\"dataframe\">\n",
       "  <thead>\n",
       "    <tr style=\"text-align: right;\">\n",
       "      <th></th>\n",
       "      <th>amt</th>\n",
       "      <th>age</th>\n",
       "      <th>hour</th>\n",
       "      <th>dayofweek</th>\n",
       "      <th>misc_net</th>\n",
       "      <th>misc_pos</th>\n",
       "      <th>health_fitness</th>\n",
       "      <th>food_dining</th>\n",
       "      <th>home</th>\n",
       "      <th>gas_transport</th>\n",
       "      <th>...</th>\n",
       "      <th>MI</th>\n",
       "      <th>IL</th>\n",
       "      <th>AL</th>\n",
       "      <th>PA</th>\n",
       "      <th>FL</th>\n",
       "      <th>OH</th>\n",
       "      <th>NY</th>\n",
       "      <th>MO</th>\n",
       "      <th>MN</th>\n",
       "      <th>is_fraud</th>\n",
       "    </tr>\n",
       "  </thead>\n",
       "  <tbody>\n",
       "    <tr>\n",
       "      <th>0</th>\n",
       "      <td>0.446250</td>\n",
       "      <td>0.085366</td>\n",
       "      <td>0.347826</td>\n",
       "      <td>0.166667</td>\n",
       "      <td>0.0</td>\n",
       "      <td>0.0</td>\n",
       "      <td>0.0</td>\n",
       "      <td>0.0</td>\n",
       "      <td>1.0</td>\n",
       "      <td>0.0</td>\n",
       "      <td>...</td>\n",
       "      <td>0.0</td>\n",
       "      <td>0.0</td>\n",
       "      <td>0.0</td>\n",
       "      <td>0.0</td>\n",
       "      <td>0.0</td>\n",
       "      <td>0.0</td>\n",
       "      <td>1.0</td>\n",
       "      <td>0.0</td>\n",
       "      <td>0.0</td>\n",
       "      <td>1</td>\n",
       "    </tr>\n",
       "    <tr>\n",
       "      <th>1</th>\n",
       "      <td>-0.466828</td>\n",
       "      <td>0.390244</td>\n",
       "      <td>0.130435</td>\n",
       "      <td>0.000000</td>\n",
       "      <td>0.0</td>\n",
       "      <td>0.0</td>\n",
       "      <td>0.0</td>\n",
       "      <td>0.0</td>\n",
       "      <td>0.0</td>\n",
       "      <td>0.0</td>\n",
       "      <td>...</td>\n",
       "      <td>0.0</td>\n",
       "      <td>0.0</td>\n",
       "      <td>0.0</td>\n",
       "      <td>0.0</td>\n",
       "      <td>0.0</td>\n",
       "      <td>0.0</td>\n",
       "      <td>1.0</td>\n",
       "      <td>0.0</td>\n",
       "      <td>0.0</td>\n",
       "      <td>0</td>\n",
       "    </tr>\n",
       "    <tr>\n",
       "      <th>2</th>\n",
       "      <td>2.180504</td>\n",
       "      <td>0.560976</td>\n",
       "      <td>1.000000</td>\n",
       "      <td>0.666667</td>\n",
       "      <td>0.0</td>\n",
       "      <td>0.0</td>\n",
       "      <td>0.0</td>\n",
       "      <td>0.0</td>\n",
       "      <td>0.0</td>\n",
       "      <td>0.0</td>\n",
       "      <td>...</td>\n",
       "      <td>0.0</td>\n",
       "      <td>0.0</td>\n",
       "      <td>0.0</td>\n",
       "      <td>0.0</td>\n",
       "      <td>0.0</td>\n",
       "      <td>0.0</td>\n",
       "      <td>0.0</td>\n",
       "      <td>0.0</td>\n",
       "      <td>0.0</td>\n",
       "      <td>1</td>\n",
       "    </tr>\n",
       "    <tr>\n",
       "      <th>3</th>\n",
       "      <td>-0.549579</td>\n",
       "      <td>0.853659</td>\n",
       "      <td>0.130435</td>\n",
       "      <td>0.000000</td>\n",
       "      <td>0.0</td>\n",
       "      <td>0.0</td>\n",
       "      <td>0.0</td>\n",
       "      <td>0.0</td>\n",
       "      <td>0.0</td>\n",
       "      <td>0.0</td>\n",
       "      <td>...</td>\n",
       "      <td>0.0</td>\n",
       "      <td>0.0</td>\n",
       "      <td>0.0</td>\n",
       "      <td>0.0</td>\n",
       "      <td>0.0</td>\n",
       "      <td>0.0</td>\n",
       "      <td>1.0</td>\n",
       "      <td>0.0</td>\n",
       "      <td>0.0</td>\n",
       "      <td>0</td>\n",
       "    </tr>\n",
       "    <tr>\n",
       "      <th>4</th>\n",
       "      <td>0.120049</td>\n",
       "      <td>0.219512</td>\n",
       "      <td>0.173913</td>\n",
       "      <td>0.166667</td>\n",
       "      <td>0.0</td>\n",
       "      <td>0.0</td>\n",
       "      <td>0.0</td>\n",
       "      <td>0.0</td>\n",
       "      <td>1.0</td>\n",
       "      <td>0.0</td>\n",
       "      <td>...</td>\n",
       "      <td>0.0</td>\n",
       "      <td>0.0</td>\n",
       "      <td>0.0</td>\n",
       "      <td>0.0</td>\n",
       "      <td>1.0</td>\n",
       "      <td>0.0</td>\n",
       "      <td>0.0</td>\n",
       "      <td>0.0</td>\n",
       "      <td>0.0</td>\n",
       "      <td>0</td>\n",
       "    </tr>\n",
       "    <tr>\n",
       "      <th>...</th>\n",
       "      <td>...</td>\n",
       "      <td>...</td>\n",
       "      <td>...</td>\n",
       "      <td>...</td>\n",
       "      <td>...</td>\n",
       "      <td>...</td>\n",
       "      <td>...</td>\n",
       "      <td>...</td>\n",
       "      <td>...</td>\n",
       "      <td>...</td>\n",
       "      <td>...</td>\n",
       "      <td>...</td>\n",
       "      <td>...</td>\n",
       "      <td>...</td>\n",
       "      <td>...</td>\n",
       "      <td>...</td>\n",
       "      <td>...</td>\n",
       "      <td>...</td>\n",
       "      <td>...</td>\n",
       "      <td>...</td>\n",
       "      <td>...</td>\n",
       "    </tr>\n",
       "    <tr>\n",
       "      <th>6995</th>\n",
       "      <td>-0.292001</td>\n",
       "      <td>0.060976</td>\n",
       "      <td>0.565217</td>\n",
       "      <td>1.000000</td>\n",
       "      <td>0.0</td>\n",
       "      <td>0.0</td>\n",
       "      <td>0.0</td>\n",
       "      <td>0.0</td>\n",
       "      <td>0.0</td>\n",
       "      <td>0.0</td>\n",
       "      <td>...</td>\n",
       "      <td>0.0</td>\n",
       "      <td>0.0</td>\n",
       "      <td>1.0</td>\n",
       "      <td>0.0</td>\n",
       "      <td>0.0</td>\n",
       "      <td>0.0</td>\n",
       "      <td>0.0</td>\n",
       "      <td>0.0</td>\n",
       "      <td>0.0</td>\n",
       "      <td>0</td>\n",
       "    </tr>\n",
       "    <tr>\n",
       "      <th>6996</th>\n",
       "      <td>2.034942</td>\n",
       "      <td>0.341463</td>\n",
       "      <td>1.000000</td>\n",
       "      <td>0.500000</td>\n",
       "      <td>0.0</td>\n",
       "      <td>0.0</td>\n",
       "      <td>0.0</td>\n",
       "      <td>0.0</td>\n",
       "      <td>0.0</td>\n",
       "      <td>0.0</td>\n",
       "      <td>...</td>\n",
       "      <td>0.0</td>\n",
       "      <td>0.0</td>\n",
       "      <td>0.0</td>\n",
       "      <td>0.0</td>\n",
       "      <td>1.0</td>\n",
       "      <td>0.0</td>\n",
       "      <td>0.0</td>\n",
       "      <td>0.0</td>\n",
       "      <td>0.0</td>\n",
       "      <td>1</td>\n",
       "    </tr>\n",
       "    <tr>\n",
       "      <th>6997</th>\n",
       "      <td>-0.421730</td>\n",
       "      <td>0.060976</td>\n",
       "      <td>0.652174</td>\n",
       "      <td>0.166667</td>\n",
       "      <td>0.0</td>\n",
       "      <td>0.0</td>\n",
       "      <td>0.0</td>\n",
       "      <td>0.0</td>\n",
       "      <td>0.0</td>\n",
       "      <td>0.0</td>\n",
       "      <td>...</td>\n",
       "      <td>0.0</td>\n",
       "      <td>0.0</td>\n",
       "      <td>1.0</td>\n",
       "      <td>0.0</td>\n",
       "      <td>0.0</td>\n",
       "      <td>0.0</td>\n",
       "      <td>0.0</td>\n",
       "      <td>0.0</td>\n",
       "      <td>0.0</td>\n",
       "      <td>0</td>\n",
       "    </tr>\n",
       "    <tr>\n",
       "      <th>6998</th>\n",
       "      <td>-0.521636</td>\n",
       "      <td>0.414634</td>\n",
       "      <td>0.043478</td>\n",
       "      <td>1.000000</td>\n",
       "      <td>0.0</td>\n",
       "      <td>0.0</td>\n",
       "      <td>1.0</td>\n",
       "      <td>0.0</td>\n",
       "      <td>0.0</td>\n",
       "      <td>0.0</td>\n",
       "      <td>...</td>\n",
       "      <td>1.0</td>\n",
       "      <td>0.0</td>\n",
       "      <td>0.0</td>\n",
       "      <td>0.0</td>\n",
       "      <td>0.0</td>\n",
       "      <td>0.0</td>\n",
       "      <td>0.0</td>\n",
       "      <td>0.0</td>\n",
       "      <td>0.0</td>\n",
       "      <td>1</td>\n",
       "    </tr>\n",
       "    <tr>\n",
       "      <th>6999</th>\n",
       "      <td>-0.393264</td>\n",
       "      <td>0.341463</td>\n",
       "      <td>0.434783</td>\n",
       "      <td>0.166667</td>\n",
       "      <td>0.0</td>\n",
       "      <td>0.0</td>\n",
       "      <td>1.0</td>\n",
       "      <td>0.0</td>\n",
       "      <td>0.0</td>\n",
       "      <td>0.0</td>\n",
       "      <td>...</td>\n",
       "      <td>0.0</td>\n",
       "      <td>0.0</td>\n",
       "      <td>0.0</td>\n",
       "      <td>0.0</td>\n",
       "      <td>0.0</td>\n",
       "      <td>0.0</td>\n",
       "      <td>1.0</td>\n",
       "      <td>0.0</td>\n",
       "      <td>0.0</td>\n",
       "      <td>0</td>\n",
       "    </tr>\n",
       "  </tbody>\n",
       "</table>\n",
       "<p>7000 rows × 41 columns</p>\n",
       "</div>"
      ],
      "text/plain": [
       "\n",
       "           amt       age      hour  dayofweek  misc_net  misc_pos  \\\n",
       "\u001b[1;36m0\u001b[0m     \u001b[1;36m0.446250\u001b[0m  \u001b[1;36m0.085366\u001b[0m  \u001b[1;36m0.347826\u001b[0m   \u001b[1;36m0.166667\u001b[0m       \u001b[1;36m0.0\u001b[0m       \u001b[1;36m0.0\u001b[0m   \n",
       "\u001b[1;36m1\u001b[0m    \u001b[1;36m-0.466828\u001b[0m  \u001b[1;36m0.390244\u001b[0m  \u001b[1;36m0.130435\u001b[0m   \u001b[1;36m0.000000\u001b[0m       \u001b[1;36m0.0\u001b[0m       \u001b[1;36m0.0\u001b[0m   \n",
       "\u001b[1;36m2\u001b[0m     \u001b[1;36m2.180504\u001b[0m  \u001b[1;36m0.560976\u001b[0m  \u001b[1;36m1.000000\u001b[0m   \u001b[1;36m0.666667\u001b[0m       \u001b[1;36m0.0\u001b[0m       \u001b[1;36m0.0\u001b[0m   \n",
       "\u001b[1;36m3\u001b[0m    \u001b[1;36m-0.549579\u001b[0m  \u001b[1;36m0.853659\u001b[0m  \u001b[1;36m0.130435\u001b[0m   \u001b[1;36m0.000000\u001b[0m       \u001b[1;36m0.0\u001b[0m       \u001b[1;36m0.0\u001b[0m   \n",
       "\u001b[1;36m4\u001b[0m     \u001b[1;36m0.120049\u001b[0m  \u001b[1;36m0.219512\u001b[0m  \u001b[1;36m0.173913\u001b[0m   \u001b[1;36m0.166667\u001b[0m       \u001b[1;36m0.0\u001b[0m       \u001b[1;36m0.0\u001b[0m   \n",
       "\u001b[33m...\u001b[0m        \u001b[33m...\u001b[0m       \u001b[33m...\u001b[0m       \u001b[33m...\u001b[0m        \u001b[33m...\u001b[0m       \u001b[33m...\u001b[0m       \u001b[33m...\u001b[0m   \n",
       "\u001b[1;36m6995\u001b[0m \u001b[1;36m-0.292001\u001b[0m  \u001b[1;36m0.060976\u001b[0m  \u001b[1;36m0.565217\u001b[0m   \u001b[1;36m1.000000\u001b[0m       \u001b[1;36m0.0\u001b[0m       \u001b[1;36m0.0\u001b[0m   \n",
       "\u001b[1;36m6996\u001b[0m  \u001b[1;36m2.034942\u001b[0m  \u001b[1;36m0.341463\u001b[0m  \u001b[1;36m1.000000\u001b[0m   \u001b[1;36m0.500000\u001b[0m       \u001b[1;36m0.0\u001b[0m       \u001b[1;36m0.0\u001b[0m   \n",
       "\u001b[1;36m6997\u001b[0m \u001b[1;36m-0.421730\u001b[0m  \u001b[1;36m0.060976\u001b[0m  \u001b[1;36m0.652174\u001b[0m   \u001b[1;36m0.166667\u001b[0m       \u001b[1;36m0.0\u001b[0m       \u001b[1;36m0.0\u001b[0m   \n",
       "\u001b[1;36m6998\u001b[0m \u001b[1;36m-0.521636\u001b[0m  \u001b[1;36m0.414634\u001b[0m  \u001b[1;36m0.043478\u001b[0m   \u001b[1;36m1.000000\u001b[0m       \u001b[1;36m0.0\u001b[0m       \u001b[1;36m0.0\u001b[0m   \n",
       "\u001b[1;36m6999\u001b[0m \u001b[1;36m-0.393264\u001b[0m  \u001b[1;36m0.341463\u001b[0m  \u001b[1;36m0.434783\u001b[0m   \u001b[1;36m0.166667\u001b[0m       \u001b[1;36m0.0\u001b[0m       \u001b[1;36m0.0\u001b[0m   \n",
       "\n",
       "      health_fitness  food_dining  home  gas_transport  \u001b[33m...\u001b[0m   MI   IL   AL  \\\n",
       "\u001b[1;36m0\u001b[0m                \u001b[1;36m0.0\u001b[0m          \u001b[1;36m0.0\u001b[0m   \u001b[1;36m1.0\u001b[0m            \u001b[1;36m0.0\u001b[0m  \u001b[33m...\u001b[0m  \u001b[1;36m0.0\u001b[0m  \u001b[1;36m0.0\u001b[0m  \u001b[1;36m0.0\u001b[0m   \n",
       "\u001b[1;36m1\u001b[0m                \u001b[1;36m0.0\u001b[0m          \u001b[1;36m0.0\u001b[0m   \u001b[1;36m0.0\u001b[0m            \u001b[1;36m0.0\u001b[0m  \u001b[33m...\u001b[0m  \u001b[1;36m0.0\u001b[0m  \u001b[1;36m0.0\u001b[0m  \u001b[1;36m0.0\u001b[0m   \n",
       "\u001b[1;36m2\u001b[0m                \u001b[1;36m0.0\u001b[0m          \u001b[1;36m0.0\u001b[0m   \u001b[1;36m0.0\u001b[0m            \u001b[1;36m0.0\u001b[0m  \u001b[33m...\u001b[0m  \u001b[1;36m0.0\u001b[0m  \u001b[1;36m0.0\u001b[0m  \u001b[1;36m0.0\u001b[0m   \n",
       "\u001b[1;36m3\u001b[0m                \u001b[1;36m0.0\u001b[0m          \u001b[1;36m0.0\u001b[0m   \u001b[1;36m0.0\u001b[0m            \u001b[1;36m0.0\u001b[0m  \u001b[33m...\u001b[0m  \u001b[1;36m0.0\u001b[0m  \u001b[1;36m0.0\u001b[0m  \u001b[1;36m0.0\u001b[0m   \n",
       "\u001b[1;36m4\u001b[0m                \u001b[1;36m0.0\u001b[0m          \u001b[1;36m0.0\u001b[0m   \u001b[1;36m1.0\u001b[0m            \u001b[1;36m0.0\u001b[0m  \u001b[33m...\u001b[0m  \u001b[1;36m0.0\u001b[0m  \u001b[1;36m0.0\u001b[0m  \u001b[1;36m0.0\u001b[0m   \n",
       "\u001b[33m...\u001b[0m              \u001b[33m...\u001b[0m          \u001b[33m...\u001b[0m   \u001b[33m...\u001b[0m            \u001b[33m...\u001b[0m  \u001b[33m...\u001b[0m  \u001b[33m...\u001b[0m  \u001b[33m...\u001b[0m  \u001b[33m...\u001b[0m   \n",
       "\u001b[1;36m6995\u001b[0m             \u001b[1;36m0.0\u001b[0m          \u001b[1;36m0.0\u001b[0m   \u001b[1;36m0.0\u001b[0m            \u001b[1;36m0.0\u001b[0m  \u001b[33m...\u001b[0m  \u001b[1;36m0.0\u001b[0m  \u001b[1;36m0.0\u001b[0m  \u001b[1;36m1.0\u001b[0m   \n",
       "\u001b[1;36m6996\u001b[0m             \u001b[1;36m0.0\u001b[0m          \u001b[1;36m0.0\u001b[0m   \u001b[1;36m0.0\u001b[0m            \u001b[1;36m0.0\u001b[0m  \u001b[33m...\u001b[0m  \u001b[1;36m0.0\u001b[0m  \u001b[1;36m0.0\u001b[0m  \u001b[1;36m0.0\u001b[0m   \n",
       "\u001b[1;36m6997\u001b[0m             \u001b[1;36m0.0\u001b[0m          \u001b[1;36m0.0\u001b[0m   \u001b[1;36m0.0\u001b[0m            \u001b[1;36m0.0\u001b[0m  \u001b[33m...\u001b[0m  \u001b[1;36m0.0\u001b[0m  \u001b[1;36m0.0\u001b[0m  \u001b[1;36m1.0\u001b[0m   \n",
       "\u001b[1;36m6998\u001b[0m             \u001b[1;36m1.0\u001b[0m          \u001b[1;36m0.0\u001b[0m   \u001b[1;36m0.0\u001b[0m            \u001b[1;36m0.0\u001b[0m  \u001b[33m...\u001b[0m  \u001b[1;36m1.0\u001b[0m  \u001b[1;36m0.0\u001b[0m  \u001b[1;36m0.0\u001b[0m   \n",
       "\u001b[1;36m6999\u001b[0m             \u001b[1;36m1.0\u001b[0m          \u001b[1;36m0.0\u001b[0m   \u001b[1;36m0.0\u001b[0m            \u001b[1;36m0.0\u001b[0m  \u001b[33m...\u001b[0m  \u001b[1;36m0.0\u001b[0m  \u001b[1;36m0.0\u001b[0m  \u001b[1;36m0.0\u001b[0m   \n",
       "\n",
       "       PA   FL   OH   NY   MO   MN  is_fraud  \n",
       "\u001b[1;36m0\u001b[0m     \u001b[1;36m0.0\u001b[0m  \u001b[1;36m0.0\u001b[0m  \u001b[1;36m0.0\u001b[0m  \u001b[1;36m1.0\u001b[0m  \u001b[1;36m0.0\u001b[0m  \u001b[1;36m0.0\u001b[0m         \u001b[1;36m1\u001b[0m  \n",
       "\u001b[1;36m1\u001b[0m     \u001b[1;36m0.0\u001b[0m  \u001b[1;36m0.0\u001b[0m  \u001b[1;36m0.0\u001b[0m  \u001b[1;36m1.0\u001b[0m  \u001b[1;36m0.0\u001b[0m  \u001b[1;36m0.0\u001b[0m         \u001b[1;36m0\u001b[0m  \n",
       "\u001b[1;36m2\u001b[0m     \u001b[1;36m0.0\u001b[0m  \u001b[1;36m0.0\u001b[0m  \u001b[1;36m0.0\u001b[0m  \u001b[1;36m0.0\u001b[0m  \u001b[1;36m0.0\u001b[0m  \u001b[1;36m0.0\u001b[0m         \u001b[1;36m1\u001b[0m  \n",
       "\u001b[1;36m3\u001b[0m     \u001b[1;36m0.0\u001b[0m  \u001b[1;36m0.0\u001b[0m  \u001b[1;36m0.0\u001b[0m  \u001b[1;36m1.0\u001b[0m  \u001b[1;36m0.0\u001b[0m  \u001b[1;36m0.0\u001b[0m         \u001b[1;36m0\u001b[0m  \n",
       "\u001b[1;36m4\u001b[0m     \u001b[1;36m0.0\u001b[0m  \u001b[1;36m1.0\u001b[0m  \u001b[1;36m0.0\u001b[0m  \u001b[1;36m0.0\u001b[0m  \u001b[1;36m0.0\u001b[0m  \u001b[1;36m0.0\u001b[0m         \u001b[1;36m0\u001b[0m  \n",
       "\u001b[33m...\u001b[0m   \u001b[33m...\u001b[0m  \u001b[33m...\u001b[0m  \u001b[33m...\u001b[0m  \u001b[33m...\u001b[0m  \u001b[33m...\u001b[0m  \u001b[33m...\u001b[0m       \u001b[33m...\u001b[0m  \n",
       "\u001b[1;36m6995\u001b[0m  \u001b[1;36m0.0\u001b[0m  \u001b[1;36m0.0\u001b[0m  \u001b[1;36m0.0\u001b[0m  \u001b[1;36m0.0\u001b[0m  \u001b[1;36m0.0\u001b[0m  \u001b[1;36m0.0\u001b[0m         \u001b[1;36m0\u001b[0m  \n",
       "\u001b[1;36m6996\u001b[0m  \u001b[1;36m0.0\u001b[0m  \u001b[1;36m1.0\u001b[0m  \u001b[1;36m0.0\u001b[0m  \u001b[1;36m0.0\u001b[0m  \u001b[1;36m0.0\u001b[0m  \u001b[1;36m0.0\u001b[0m         \u001b[1;36m1\u001b[0m  \n",
       "\u001b[1;36m6997\u001b[0m  \u001b[1;36m0.0\u001b[0m  \u001b[1;36m0.0\u001b[0m  \u001b[1;36m0.0\u001b[0m  \u001b[1;36m0.0\u001b[0m  \u001b[1;36m0.0\u001b[0m  \u001b[1;36m0.0\u001b[0m         \u001b[1;36m0\u001b[0m  \n",
       "\u001b[1;36m6998\u001b[0m  \u001b[1;36m0.0\u001b[0m  \u001b[1;36m0.0\u001b[0m  \u001b[1;36m0.0\u001b[0m  \u001b[1;36m0.0\u001b[0m  \u001b[1;36m0.0\u001b[0m  \u001b[1;36m0.0\u001b[0m         \u001b[1;36m1\u001b[0m  \n",
       "\u001b[1;36m6999\u001b[0m  \u001b[1;36m0.0\u001b[0m  \u001b[1;36m0.0\u001b[0m  \u001b[1;36m0.0\u001b[0m  \u001b[1;36m1.0\u001b[0m  \u001b[1;36m0.0\u001b[0m  \u001b[1;36m0.0\u001b[0m         \u001b[1;36m0\u001b[0m  \n",
       "\n",
       "\u001b[1m[\u001b[0m\u001b[1;36m7000\u001b[0m rows x \u001b[1;36m41\u001b[0m columns\u001b[1m]\u001b[0m"
      ]
     },
     "execution_count": 44,
     "metadata": {},
     "output_type": "execute_result"
    }
   ],
   "source": [
    "processed_val_df = preprocessor.transform(X_val)\n",
    "processed_val_df = pd.DataFrame(processed_val_df, columns=[*standard_features, *minmax_features, *cat_feats])\n",
    "processed_val_df[\"is_fraud\"] = y_val.to_list()\n",
    "processed_val_df"
   ]
  },
  {
   "cell_type": "code",
   "execution_count": null,
   "metadata": {},
   "outputs": [],
   "source": []
  }
 ],
 "metadata": {
  "kernelspec": {
   "display_name": "kedro-session",
   "language": "python",
   "name": "python3"
  },
  "language_info": {
   "codemirror_mode": {
    "name": "ipython",
    "version": 3
   },
   "file_extension": ".py",
   "mimetype": "text/x-python",
   "name": "python",
   "nbconvert_exporter": "python",
   "pygments_lexer": "ipython3",
   "version": "3.10.14"
  }
 },
 "nbformat": 4,
 "nbformat_minor": 2
}
